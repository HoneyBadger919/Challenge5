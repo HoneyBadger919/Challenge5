{
 "cells": [
  {
   "cell_type": "markdown",
   "metadata": {},
   "source": [
    "# Financial Planning with APIs and Simulations\n",
    "\n",
    "In this Challenge, you’ll create two financial analysis tools by using a single Jupyter notebook:\n",
    "\n",
    "Part 1: A financial planner for emergencies. The members will be able to use this tool to visualize their current savings. The members can then determine if they have enough reserves for an emergency fund.\n",
    "\n",
    "Part 2: A financial planner for retirement. This tool will forecast the performance of their retirement portfolio in 30 years. To do this, the tool will make an Alpaca API call via the Alpaca SDK to get historical price data for use in Monte Carlo simulations.\n",
    "\n",
    "You’ll use the information from the Monte Carlo simulation to answer questions about the portfolio in your Jupyter notebook.\n",
    "\n"
   ]
  },
  {
   "cell_type": "code",
   "execution_count": 1,
   "metadata": {},
   "outputs": [],
   "source": [
    "# Import the required libraries and dependencies\n",
    "import os\n",
    "import requests\n",
    "import json\n",
    "import pandas as pd\n",
    "from dotenv import load_dotenv\n",
    "import alpaca_trade_api as tradeapi\n",
    "from MCForecastTools import MCSimulation\n",
    "\n",
    "%matplotlib inline"
   ]
  },
  {
   "cell_type": "code",
   "execution_count": 2,
   "metadata": {},
   "outputs": [
    {
     "data": {
      "text/plain": [
       "True"
      ]
     },
     "execution_count": 2,
     "metadata": {},
     "output_type": "execute_result"
    }
   ],
   "source": [
    "# Load the environment variables from the .env file\n",
    "#by calling the load_dotenv function\n",
    "load_dotenv()"
   ]
  },
  {
   "cell_type": "markdown",
   "metadata": {},
   "source": [
    "## Part 1: Create a Financial Planner for Emergencies"
   ]
  },
  {
   "cell_type": "markdown",
   "metadata": {},
   "source": [
    "### Evaluate the Cryptocurrency Wallet by Using the Requests Library\n",
    "\n",
    "In this section, you’ll determine the current value of a member’s cryptocurrency wallet. You’ll collect the current prices for the Bitcoin and Ethereum cryptocurrencies by using the Python Requests library. For the prototype, you’ll assume that the member holds the 1.2 Bitcoins (BTC) and 5.3 Ethereum coins (ETH). To do all this, complete the following steps:\n",
    "\n",
    "1. Create a variable named `monthly_income`, and set its value to `12000`.\n",
    "\n",
    "2. Use the Requests library to get the current price (in US dollars) of Bitcoin (BTC) and Ethereum (ETH) by using the API endpoints that the starter code supplies.\n",
    "\n",
    "3. Navigate the JSON response object to access the current price of each coin, and store each in a variable.\n",
    "\n",
    "    > **Hint** Note the specific identifier for each cryptocurrency in the API JSON response. The Bitcoin identifier is `1`, and the Ethereum identifier is `1027`.\n",
    "\n",
    "4. Calculate the value, in US dollars, of the current amount of each cryptocurrency and of the entire cryptocurrency wallet.\n",
    "\n"
   ]
  },
  {
   "cell_type": "code",
   "execution_count": 3,
   "metadata": {},
   "outputs": [],
   "source": [
    "# The current number of coins for each cryptocurrency asset held in the portfolio.\n",
    "btc_coins = 1.2\n",
    "eth_coins = 5.3"
   ]
  },
  {
   "cell_type": "markdown",
   "metadata": {},
   "source": [
    "#### Step 1: Create a variable named `monthly_income`, and set its value to `12000`."
   ]
  },
  {
   "cell_type": "code",
   "execution_count": 4,
   "metadata": {},
   "outputs": [],
   "source": [
    "# The monthly amount for the member's household income\n",
    "monthly_income = 12000\n"
   ]
  },
  {
   "cell_type": "markdown",
   "metadata": {},
   "source": [
    "#### Review the endpoint URLs for the API calls to Free Crypto API in order to get the current pricing information for both BTC and ETH."
   ]
  },
  {
   "cell_type": "code",
   "execution_count": 5,
   "metadata": {},
   "outputs": [],
   "source": [
    "# The Free Crypto API Call endpoint URLs for the held cryptocurrency assets\n",
    "btc_url = \"https://api.alternative.me/v2/ticker/Bitcoin/?convert=USD\"\n",
    "eth_url = \"https://api.alternative.me/v2/ticker/Ethereum/?convert=USD\""
   ]
  },
  {
   "cell_type": "markdown",
   "metadata": {},
   "source": [
    "#### Step 2. Use the Requests library to get the current price (in US dollars) of Bitcoin (BTC) and Ethereum (ETH) by using the API endpoints that the starter code supplied."
   ]
  },
  {
   "cell_type": "code",
   "execution_count": 6,
   "metadata": {},
   "outputs": [
    {
     "name": "stdout",
     "output_type": "stream",
     "text": [
      "{\n",
      "    \"data\": {\n",
      "        \"1\": {\n",
      "            \"circulating_supply\": 18936125,\n",
      "            \"id\": 1,\n",
      "            \"last_updated\": 1642779858,\n",
      "            \"max_supply\": 21000000,\n",
      "            \"name\": \"Bitcoin\",\n",
      "            \"quotes\": {\n",
      "                \"USD\": {\n",
      "                    \"market_cap\": 737464460657,\n",
      "                    \"percent_change_1h\": 0.25922013953473,\n",
      "                    \"percent_change_24h\": -10.1444920597185,\n",
      "                    \"percent_change_7d\": -8.81316133308854,\n",
      "                    \"percentage_change_1h\": 0.25922013953473,\n",
      "                    \"percentage_change_24h\": -10.1444920597185,\n",
      "                    \"percentage_change_7d\": -8.81316133308854,\n",
      "                    \"price\": 38853.0,\n",
      "                    \"volume_24h\": 33343387310\n",
      "                }\n",
      "            },\n",
      "            \"rank\": 1,\n",
      "            \"symbol\": \"BTC\",\n",
      "            \"total_supply\": 18936125,\n",
      "            \"website_slug\": \"bitcoin\"\n",
      "        }\n",
      "    },\n",
      "    \"metadata\": {\n",
      "        \"error\": null,\n",
      "        \"num_cryptocurrencies\": 3105,\n",
      "        \"timestamp\": 1642779858\n",
      "    }\n",
      "}\n"
     ]
    }
   ],
   "source": [
    "# Using the Python requests library, make an API call to access the current price of BTC\n",
    "btc_response = requests.get(btc_url).json()\n",
    "\n",
    "# Use the json.dumps function to review the response data from the API call\n",
    "# Use the indent and sort_keys parameters to make the response object readable\n",
    "print(json.dumps(btc_response,sort_keys=True,indent=4))\n"
   ]
  },
  {
   "cell_type": "code",
   "execution_count": 7,
   "metadata": {},
   "outputs": [
    {
     "name": "stdout",
     "output_type": "stream",
     "text": [
      "{\n",
      "    \"data\": {\n",
      "        \"1027\": {\n",
      "            \"circulating_supply\": 119252834,\n",
      "            \"id\": 1027,\n",
      "            \"last_updated\": 1642779802,\n",
      "            \"max_supply\": 0,\n",
      "            \"name\": \"Ethereum\",\n",
      "            \"quotes\": {\n",
      "                \"USD\": {\n",
      "                    \"market_cap\": 338446811825,\n",
      "                    \"percent_change_1h\": 0.48684003796901,\n",
      "                    \"percent_change_24h\": -12.8204907255557,\n",
      "                    \"percent_change_7d\": -12.9589057419204,\n",
      "                    \"percentage_change_1h\": 0.48684003796901,\n",
      "                    \"percentage_change_24h\": -12.8204907255557,\n",
      "                    \"percentage_change_7d\": -12.9589057419204,\n",
      "                    \"price\": 2834.72,\n",
      "                    \"volume_24h\": 23589708449\n",
      "                }\n",
      "            },\n",
      "            \"rank\": 2,\n",
      "            \"symbol\": \"ETH\",\n",
      "            \"total_supply\": 119252834,\n",
      "            \"website_slug\": \"ethereum\"\n",
      "        }\n",
      "    },\n",
      "    \"metadata\": {\n",
      "        \"error\": null,\n",
      "        \"num_cryptocurrencies\": 3105,\n",
      "        \"timestamp\": 1642779802\n",
      "    }\n",
      "}\n"
     ]
    }
   ],
   "source": [
    "# Using the Python requests library, make an API call to access the current price ETH\n",
    "eth_response = requests.get(eth_url).json()\n",
    "\n",
    "# Use the json.dumps function to review the response data from the API call\n",
    "# Use the indent and sort_keys parameters to make the response object readable\n",
    "print(json.dumps(eth_response,sort_keys=True,indent=4))\n"
   ]
  },
  {
   "cell_type": "markdown",
   "metadata": {},
   "source": [
    "#### Step 3: Navigate the JSON response object to access the current price of each coin, and store each in a variable."
   ]
  },
  {
   "cell_type": "code",
   "execution_count": 8,
   "metadata": {},
   "outputs": [
    {
     "name": "stdout",
     "output_type": "stream",
     "text": [
      "The current price of one Bitcoin is: $ 38853.00\n"
     ]
    }
   ],
   "source": [
    "# Navigate the BTC response object to access the current price of BTC\n",
    "btc_price = btc_response['data']['1']['quotes']['USD']['price']\n",
    "\n",
    "# Print the current price of BTC\n",
    "print(f'The current price of one Bitcoin is: $ {btc_price:.2f}')\n"
   ]
  },
  {
   "cell_type": "code",
   "execution_count": 9,
   "metadata": {},
   "outputs": [
    {
     "name": "stdout",
     "output_type": "stream",
     "text": [
      "The current price of one Ether is: $ 2834.72\n"
     ]
    }
   ],
   "source": [
    "# Navigate the BTC response object to access the current price of ETH\n",
    "eth_price = eth_response['data']['1027']['quotes']['USD']['price']\n",
    "\n",
    "# Print the current price of ETH\n",
    "print(f'The current price of one Ether is: $ {eth_price:.2f}')\n"
   ]
  },
  {
   "cell_type": "markdown",
   "metadata": {},
   "source": [
    "### Step 4: Calculate the value, in US dollars, of the current amount of each cryptocurrency and of the entire cryptocurrency wallet."
   ]
  },
  {
   "cell_type": "code",
   "execution_count": 10,
   "metadata": {},
   "outputs": [
    {
     "name": "stdout",
     "output_type": "stream",
     "text": [
      "The total value of Bitcoin in the portfolio is: $ 46623.60\n"
     ]
    }
   ],
   "source": [
    "# Compute the current value of the BTC holding \n",
    "btc_value = btc_coins*btc_price\n",
    "\n",
    "# Print current value of your holding in BTC\n",
    "print(f'The total value of Bitcoin in the portfolio is: $ {btc_value:.2f}')\n"
   ]
  },
  {
   "cell_type": "code",
   "execution_count": 11,
   "metadata": {},
   "outputs": [
    {
     "name": "stdout",
     "output_type": "stream",
     "text": [
      "The total value of Ether in the portfolio is: $ 15024.02\n"
     ]
    }
   ],
   "source": [
    "# Compute the current value of the ETH holding \n",
    "eth_value = eth_coins*eth_price\n",
    "\n",
    "# Print current value of your holding in ETH\n",
    "print(f'The total value of Ether in the portfolio is: $ {eth_value:.2f}')\n"
   ]
  },
  {
   "cell_type": "code",
   "execution_count": 12,
   "metadata": {},
   "outputs": [
    {
     "name": "stdout",
     "output_type": "stream",
     "text": [
      "The total value of the crypto-wallet currently is: $ 61647.62\n"
     ]
    }
   ],
   "source": [
    "# Compute the total value of the cryptocurrency wallet\n",
    "# Add the value of the BTC holding to the value of the ETH holding\n",
    "total_crypto_wallet = btc_value + eth_value\n",
    "\n",
    "# Print current cryptocurrency wallet balance\n",
    "print(f'The total value of the crypto-wallet currently is: $ {total_crypto_wallet:.2f}')\n"
   ]
  },
  {
   "cell_type": "markdown",
   "metadata": {},
   "source": [
    "### Evaluate the Stock and Bond Holdings by Using the Alpaca SDK\n",
    "\n",
    "In this section, you’ll determine the current value of a member’s stock and bond holdings. You’ll make an API call to Alpaca via the Alpaca SDK to get the current closing prices of the SPDR S&P 500 ETF Trust (ticker: SPY) and of the iShares Core US Aggregate Bond ETF (ticker: AGG). For the prototype, assume that the member holds 110 shares of SPY, which represents the stock portion of their portfolio, and 200 shares of AGG, which represents the bond portion. To do all this, complete the following steps:\n",
    "\n",
    "1. In the `Starter_Code` folder, create an environment file (`.env`) to store the values of your Alpaca API key and Alpaca secret key.\n",
    "\n",
    "2. Set the variables for the Alpaca API and secret keys. Using the Alpaca SDK, create the Alpaca `tradeapi.REST` object. In this object, include the parameters for the Alpaca API key, the secret key, and the version number.\n",
    "\n",
    "3. Set the following parameters for the Alpaca API call:\n",
    "\n",
    "    - `tickers`: Use the tickers for the member’s stock and bond holdings.\n",
    "\n",
    "    - `timeframe`: Use a time frame of one day.\n",
    "\n",
    "    - `start_date` and `end_date`: Use the same date for these parameters, and format them with the date of the previous weekday (or `2020-08-07`). This is because you want the one closing price for the most-recent trading day.\n",
    "\n",
    "4. Get the current closing prices for `SPY` and `AGG` by using the Alpaca `get_barset` function. Format the response as a Pandas DataFrame by including the `df` property at the end of the `get_barset` function.\n",
    "\n",
    "5. Navigating the Alpaca response DataFrame, select the `SPY` and `AGG` closing prices, and store them as variables.\n",
    "\n",
    "6. Calculate the value, in US dollars, of the current amount of shares in each of the stock and bond portions of the portfolio, and print the results.\n"
   ]
  },
  {
   "cell_type": "markdown",
   "metadata": {},
   "source": [
    "#### Review the total number of shares held in both (SPY) and (AGG)."
   ]
  },
  {
   "cell_type": "code",
   "execution_count": 13,
   "metadata": {},
   "outputs": [],
   "source": [
    "# Current amount of shares held in both the stock (SPY) and bond (AGG) portion of the portfolio.\n",
    "spy_shares = 110\n",
    "agg_shares = 200\n"
   ]
  },
  {
   "cell_type": "markdown",
   "metadata": {},
   "source": [
    "#### Step 1: In the `Starter_Code` folder, create an environment file (`.env`) to store the values of your Alpaca API key and Alpaca secret key."
   ]
  },
  {
   "cell_type": "markdown",
   "metadata": {},
   "source": [
    "#### Step 2: Set the variables for the Alpaca API and secret keys. Using the Alpaca SDK, create the Alpaca `tradeapi.REST` object. In this object, include the parameters for the Alpaca API key, the secret key, and the version number."
   ]
  },
  {
   "cell_type": "code",
   "execution_count": 14,
   "metadata": {},
   "outputs": [],
   "source": [
    "# Set the variables for the Alpaca API and secret keys\n",
    "alpaca_api_key = os.getenv(\"ALPACA_API_KEY\")\n",
    "alpaca_secret_key = os.getenv(\"ALPACA_SECRET_KEY\")\n",
    "\n",
    "# Create the Alpaca tradeapi.REST object\n",
    "alpaca = tradeapi.REST(\n",
    "    alpaca_api_key,\n",
    "    alpaca_secret_key,\n",
    "    api_version='v2'\n",
    ")\n"
   ]
  },
  {
   "cell_type": "markdown",
   "metadata": {},
   "source": [
    "#### Step 3: Set the following parameters for the Alpaca API call:\n",
    "\n",
    "- `tickers`: Use the tickers for the member’s stock and bond holdings.\n",
    "\n",
    "- `timeframe`: Use a time frame of one day.\n",
    "\n",
    "- `start_date` and `end_date`: Use the same date for these parameters, and format them with the date of the previous weekday (or `2020-08-07`). This is because you want the one closing price for the most-recent trading day.\n"
   ]
  },
  {
   "cell_type": "markdown",
   "metadata": {},
   "source": [
    "## For getting the previous date I get today's date and subtract a BusinessDay offset object"
   ]
  },
  {
   "cell_type": "code",
   "execution_count": 15,
   "metadata": {},
   "outputs": [
    {
     "name": "stdout",
     "output_type": "stream",
     "text": [
      "2022-01-20T00:00:00-05:00\n",
      "2022-01-20T00:00:00-05:00\n"
     ]
    }
   ],
   "source": [
    "# Set the tickers for both the bond and stock portion of the portfolio\n",
    "tickers = ['SPY','AGG']\n",
    "\n",
    "# Set timeframe to 1D \n",
    "timeframe = '1D'\n",
    "\n",
    "# Format current date as ISO format\n",
    "# Set both the start and end date at the date of your prior weekday \n",
    "# This will give you the closing price of the previous trading day\n",
    "# Alternatively you can use a start and end date of 2020-08-07\n",
    "today = pd.Timestamp('today',tz='America/New_York').round('d')   # rounding off hours, minutes and seconds\n",
    "prev_week_day = today - pd.tseries.offsets.BusinessDay(n=1)\n",
    "start_date = prev_week_day.isoformat()\n",
    "end_date = prev_week_day.isoformat()\n",
    "print(start_date)\n",
    "print(end_date)\n"
   ]
  },
  {
   "cell_type": "markdown",
   "metadata": {},
   "source": [
    "#### Step 4: Get the current closing prices for `SPY` and `AGG` by using the Alpaca `get_barset` function. Format the response as a Pandas DataFrame by including the `df` property at the end of the `get_barset` function."
   ]
  },
  {
   "cell_type": "code",
   "execution_count": 16,
   "metadata": {},
   "outputs": [
    {
     "data": {
      "text/html": [
       "<div>\n",
       "<style scoped>\n",
       "    .dataframe tbody tr th:only-of-type {\n",
       "        vertical-align: middle;\n",
       "    }\n",
       "\n",
       "    .dataframe tbody tr th {\n",
       "        vertical-align: top;\n",
       "    }\n",
       "\n",
       "    .dataframe thead tr th {\n",
       "        text-align: left;\n",
       "    }\n",
       "\n",
       "    .dataframe thead tr:last-of-type th {\n",
       "        text-align: right;\n",
       "    }\n",
       "</style>\n",
       "<table border=\"1\" class=\"dataframe\">\n",
       "  <thead>\n",
       "    <tr>\n",
       "      <th></th>\n",
       "      <th colspan=\"5\" halign=\"left\">AGG</th>\n",
       "      <th colspan=\"5\" halign=\"left\">SPY</th>\n",
       "    </tr>\n",
       "    <tr>\n",
       "      <th></th>\n",
       "      <th>open</th>\n",
       "      <th>high</th>\n",
       "      <th>low</th>\n",
       "      <th>close</th>\n",
       "      <th>volume</th>\n",
       "      <th>open</th>\n",
       "      <th>high</th>\n",
       "      <th>low</th>\n",
       "      <th>close</th>\n",
       "      <th>volume</th>\n",
       "    </tr>\n",
       "    <tr>\n",
       "      <th>time</th>\n",
       "      <th></th>\n",
       "      <th></th>\n",
       "      <th></th>\n",
       "      <th></th>\n",
       "      <th></th>\n",
       "      <th></th>\n",
       "      <th></th>\n",
       "      <th></th>\n",
       "      <th></th>\n",
       "      <th></th>\n",
       "    </tr>\n",
       "  </thead>\n",
       "  <tbody>\n",
       "    <tr>\n",
       "      <th>2022-01-20 00:00:00-05:00</th>\n",
       "      <td>111.84</td>\n",
       "      <td>111.9</td>\n",
       "      <td>111.75</td>\n",
       "      <td>111.79</td>\n",
       "      <td>6861797</td>\n",
       "      <td>453.75</td>\n",
       "      <td>458.74</td>\n",
       "      <td>444.5</td>\n",
       "      <td>446.79</td>\n",
       "      <td>105009751</td>\n",
       "    </tr>\n",
       "  </tbody>\n",
       "</table>\n",
       "</div>"
      ],
      "text/plain": [
       "                              AGG                                     SPY  \\\n",
       "                             open   high     low   close   volume    open   \n",
       "time                                                                        \n",
       "2022-01-20 00:00:00-05:00  111.84  111.9  111.75  111.79  6861797  453.75   \n",
       "\n",
       "                                                             \n",
       "                             high    low   close     volume  \n",
       "time                                                         \n",
       "2022-01-20 00:00:00-05:00  458.74  444.5  446.79  105009751  "
      ]
     },
     "execution_count": 16,
     "metadata": {},
     "output_type": "execute_result"
    }
   ],
   "source": [
    "# Use the Alpaca get_barset function to get current closing prices the portfolio\n",
    "# Be sure to set the `df` property after the function to format the response object as a DataFrame\n",
    "prices_df = alpaca.get_barset(\n",
    "    tickers,\n",
    "    timeframe,\n",
    "    start=start_date,\n",
    "    end=end_date\n",
    ").df\n",
    "\n",
    "# Review the first 5 rows of the Alpaca DataFrame\n",
    "prices_df.head()\n"
   ]
  },
  {
   "cell_type": "markdown",
   "metadata": {},
   "source": [
    "#### Step 5: Navigating the Alpaca response DataFrame, select the `SPY` and `AGG` closing prices, and store them as variables."
   ]
  },
  {
   "cell_type": "code",
   "execution_count": 17,
   "metadata": {},
   "outputs": [
    {
     "name": "stdout",
     "output_type": "stream",
     "text": [
      "The last daily closing price for AGG is:\n",
      "time\n",
      "2022-01-20 00:00:00-05:00    446.79\n",
      "Name: close, dtype: float64\n"
     ]
    }
   ],
   "source": [
    "# Access the closing price for AGG from the Alpaca DataFrame\n",
    "# Converting the value to a floating point number\n",
    "agg_close_price = prices_df['SPY']['close']\n",
    "\n",
    "# Print the AGG closing price\n",
    "print(f'The last daily closing price for AGG is:\\n{agg_close_price}')\n"
   ]
  },
  {
   "cell_type": "code",
   "execution_count": 18,
   "metadata": {},
   "outputs": [
    {
     "name": "stdout",
     "output_type": "stream",
     "text": [
      "The last daily closing price for SPY is:\n",
      "time\n",
      "2022-01-20 00:00:00-05:00    446.79\n",
      "Name: close, dtype: float64\n"
     ]
    }
   ],
   "source": [
    "# Access the closing price for SPY from the Alpaca DataFrame\n",
    "# Converting the value to a floating point number\n",
    "spy_close_price = prices_df['SPY']['close']\n",
    "\n",
    "# Print the SPY closing price\n",
    "print(f'The last daily closing price for SPY is:\\n{agg_close_price}')\n"
   ]
  },
  {
   "cell_type": "markdown",
   "metadata": {},
   "source": [
    "#### Step 6: Calculate the value, in US dollars, of the current amount of shares in each of the stock and bond portions of the portfolio, and print the results."
   ]
  },
  {
   "cell_type": "code",
   "execution_count": 19,
   "metadata": {},
   "outputs": [
    {
     "name": "stdout",
     "output_type": "stream",
     "text": [
      "The current value of the portfolio's portion invested in AGG is: $ 89358.00\n"
     ]
    }
   ],
   "source": [
    "# Calculate the current value of the bond portion of the portfolio\n",
    "agg_value = agg_close_price[0]*agg_shares\n",
    "\n",
    "# Print the current value of the bond portfolio\n",
    "print(f\"The current value of the portfolio's portion invested in AGG is: $ {agg_value:.2f}\")\n"
   ]
  },
  {
   "cell_type": "code",
   "execution_count": 20,
   "metadata": {},
   "outputs": [
    {
     "name": "stdout",
     "output_type": "stream",
     "text": [
      "The current value of the portfolio's portion invested in SPY is: $ 49146.90\n"
     ]
    }
   ],
   "source": [
    "# Calculate the current value of the stock portion of the portfolio\n",
    "spy_value = spy_close_price[0]*spy_shares\n",
    "\n",
    "# Print the current value of the stock portfolio\n",
    "print(f\"The current value of the portfolio's portion invested in SPY is: $ {spy_value:.2f}\")\n",
    "\n"
   ]
  },
  {
   "cell_type": "code",
   "execution_count": 21,
   "metadata": {},
   "outputs": [
    {
     "name": "stdout",
     "output_type": "stream",
     "text": [
      "The total value of the stocks and bonds in the portfolio is: $ 138504.90\n"
     ]
    }
   ],
   "source": [
    "# Calculate the total value of the stock and bond portion of the portfolio\n",
    "total_stocks_bonds = agg_value + spy_value\n",
    "\n",
    "# Print the current balance of the stock and bond portion of the portfolio\n",
    "print(f\"The total value of the stocks and bonds in the portfolio is: $ {total_stocks_bonds:.2f}\")\n"
   ]
  },
  {
   "cell_type": "code",
   "execution_count": 22,
   "metadata": {},
   "outputs": [
    {
     "name": "stdout",
     "output_type": "stream",
     "text": [
      "The total value of all the assets in the porfolio is: $ 200152.52\n"
     ]
    }
   ],
   "source": [
    "# Calculate the total value of the member's entire savings portfolio\n",
    "# Add the value of the cryptocurrency walled to the value of the total stocks and bonds\n",
    "total_portfolio = total_crypto_wallet + total_stocks_bonds\n",
    "\n",
    "# Print current cryptocurrency wallet balance\n",
    "print(f\"The total value of all the assets in the porfolio is: $ {total_portfolio:.2f}\")\n"
   ]
  },
  {
   "cell_type": "markdown",
   "metadata": {},
   "source": [
    "### Evaluate the Emergency Fund\n",
    "\n",
    "In this section, you’ll use the valuations for the cryptocurrency wallet and for the stock and bond portions of the portfolio to determine if the credit union member has enough savings to build an emergency fund into their financial plan. To do this, complete the following steps:\n",
    "\n",
    "1. Create a Python list named `savings_data` that has two elements. The first element contains the total value of the cryptocurrency wallet. The second element contains the total value of the stock and bond portions of the portfolio.\n",
    "\n",
    "2. Use the `savings_data` list to create a Pandas DataFrame named `savings_df`, and then display this DataFrame. The function to create the DataFrame should take the following three parameters:\n",
    "\n",
    "    - `savings_data`: Use the list that you just created.\n",
    "\n",
    "    - `columns`: Set this parameter equal to a Python list with a single value called `amount`.\n",
    "\n",
    "    - `index`: Set this parameter equal to a Python list with the values of `crypto` and `stock/bond`.\n",
    "\n",
    "3. Use the `savings_df` DataFrame to plot a pie chart that visualizes the composition of the member’s portfolio. The y-axis of the pie chart uses `amount`. Be sure to add a title.\n",
    "\n",
    "4. Using Python, determine if the current portfolio has enough to create an emergency fund as part of the member’s financial plan. Ideally, an emergency fund should equal to three times the member’s monthly income. To do this, implement the following steps:\n",
    "\n",
    "    1. Create a variable named `emergency_fund_value`, and set it equal to three times the value of the member’s `monthly_income` of $12000. (You set this earlier in Part 1).\n",
    "\n",
    "    2. Create a series of three if statements to determine if the member’s total portfolio is large enough to fund the emergency portfolio:\n",
    "\n",
    "        1. If the total portfolio value is greater than the emergency fund value, display a message congratulating the member for having enough money in this fund.\n",
    "\n",
    "        2. Else if the total portfolio value is equal to the emergency fund value, display a message congratulating the member on reaching this important financial goal.\n",
    "\n",
    "        3. Else the total portfolio is less than the emergency fund value, so display a message showing how many dollars away the member is from reaching the goal. (Subtract the total portfolio value from the emergency fund value.)\n"
   ]
  },
  {
   "cell_type": "markdown",
   "metadata": {},
   "source": [
    "#### Step 1: Create a Python list named `savings_data` that has two elements. The first element contains the total value of the cryptocurrency wallet. The second element contains the total value of the stock and bond portions of the portfolio."
   ]
  },
  {
   "cell_type": "code",
   "execution_count": 23,
   "metadata": {},
   "outputs": [
    {
     "data": {
      "text/plain": [
       "[61647.615999999995, 138504.9]"
      ]
     },
     "execution_count": 23,
     "metadata": {},
     "output_type": "execute_result"
    }
   ],
   "source": [
    "# Consolidate financial assets data into a Python list\n",
    "savings_data = [total_crypto_wallet, total_stocks_bonds]\n",
    "\n",
    "# Review the Python list savings_data\n",
    "savings_data\n",
    "    "
   ]
  },
  {
   "cell_type": "markdown",
   "metadata": {},
   "source": [
    "#### Step 2: Use the `savings_data` list to create a Pandas DataFrame named `savings_df`, and then display this DataFrame. The function to create the DataFrame should take the following three parameters:\n",
    "\n",
    "- `savings_data`: Use the list that you just created.\n",
    "\n",
    "- `columns`: Set this parameter equal to a Python list with a single value called `amount`.\n",
    "\n",
    "- `index`: Set this parameter equal to a Python list with the values of `crypto` and `stock/bond`.\n"
   ]
  },
  {
   "cell_type": "code",
   "execution_count": 26,
   "metadata": {},
   "outputs": [
    {
     "data": {
      "text/html": [
       "<div>\n",
       "<style scoped>\n",
       "    .dataframe tbody tr th:only-of-type {\n",
       "        vertical-align: middle;\n",
       "    }\n",
       "\n",
       "    .dataframe tbody tr th {\n",
       "        vertical-align: top;\n",
       "    }\n",
       "\n",
       "    .dataframe thead th {\n",
       "        text-align: right;\n",
       "    }\n",
       "</style>\n",
       "<table border=\"1\" class=\"dataframe\">\n",
       "  <thead>\n",
       "    <tr style=\"text-align: right;\">\n",
       "      <th></th>\n",
       "      <th>amount</th>\n",
       "    </tr>\n",
       "  </thead>\n",
       "  <tbody>\n",
       "    <tr>\n",
       "      <th>crypto</th>\n",
       "      <td>61647.616</td>\n",
       "    </tr>\n",
       "    <tr>\n",
       "      <th>stock/bond</th>\n",
       "      <td>138504.900</td>\n",
       "    </tr>\n",
       "  </tbody>\n",
       "</table>\n",
       "</div>"
      ],
      "text/plain": [
       "                amount\n",
       "crypto       61647.616\n",
       "stock/bond  138504.900"
      ]
     },
     "execution_count": 26,
     "metadata": {},
     "output_type": "execute_result"
    }
   ],
   "source": [
    "# Create a Pandas DataFrame called savings_df \n",
    "savings_df = pd.DataFrame({\n",
    "    'amount' : savings_data\n",
    "    },\n",
    "    index = ['crypto', 'stock/bond']\n",
    ")\n",
    "\n",
    "# Display the savings_df DataFrame\n",
    "savings_df\n"
   ]
  },
  {
   "cell_type": "markdown",
   "metadata": {},
   "source": [
    "#### Step 3: Use the `savings_df` DataFrame to plot a pie chart that visualizes the composition of the member’s portfolio. The y-axis of the pie chart uses `amount`. Be sure to add a title."
   ]
  },
  {
   "cell_type": "code",
   "execution_count": 27,
   "metadata": {},
   "outputs": [
    {
     "data": {
      "text/plain": [
       "<AxesSubplot:title={'center':\"Member's portfolio composition\"}, ylabel='amount'>"
      ]
     },
     "execution_count": 27,
     "metadata": {},
     "output_type": "execute_result"
    },
    {
     "data": {
      "image/png": "[encoded data removed]",
      "text/plain": [
       "<Figure size 864x576 with 1 Axes>"
      ]
     },
     "metadata": {},
     "output_type": "display_data"
    }
   ],
   "source": [
    "# Plot the total value of the member's portfolio (crypto and stock/bond) in a pie chart\n",
    "savings_df.plot.pie(y='amount',figsize=(12,8),title=\"Member's portfolio composition\")\n"
   ]
  },
  {
   "cell_type": "markdown",
   "metadata": {},
   "source": [
    "#### Step 4: Using Python, determine if the current portfolio has enough to create an emergency fund as part of the member’s financial plan. Ideally, an emergency fund should equal to three times the member’s monthly income. To do this, implement the following steps:\n",
    "\n",
    "Step 1. Create a variable named `emergency_fund_value`, and set it equal to three times the value of the member’s `monthly_income` of 12000. (You set this earlier in Part 1).\n",
    "\n",
    "Step 2. Create a series of three if statements to determine if the member’s total portfolio is large enough to fund the emergency portfolio:\n",
    "\n",
    "* If the total portfolio value is greater than the emergency fund value, display a message congratulating the member for having enough money in this fund.\n",
    "\n",
    "* Else if the total portfolio value is equal to the emergency fund value, display a message congratulating the member on reaching this important financial goal.\n",
    "\n",
    "* Else the total portfolio is less than the emergency fund value, so display a message showing how many dollars away the member is from reaching the goal. (Subtract the total portfolio value from the emergency fund value.)\n"
   ]
  },
  {
   "cell_type": "markdown",
   "metadata": {},
   "source": [
    "##### Step 4-1: Create a variable named `emergency_fund_value`, and set it equal to three times the value of the member’s `monthly_income` of 12000. (You set this earlier in Part 1)."
   ]
  },
  {
   "cell_type": "code",
   "execution_count": 28,
   "metadata": {},
   "outputs": [
    {
     "data": {
      "text/plain": [
       "36000"
      ]
     },
     "execution_count": 28,
     "metadata": {},
     "output_type": "execute_result"
    }
   ],
   "source": [
    "# Create a variable named emergency_fund_value\n",
    "emergency_fund_value = 3*monthly_income\n",
    "emergency_fund_value"
   ]
  },
  {
   "cell_type": "markdown",
   "metadata": {},
   "source": [
    "##### Step 4-2: Create a series of three if statements to determine if the member’s total portfolio is large enough to fund the emergency portfolio:\n",
    "\n",
    "* If the total portfolio value is greater than the emergency fund value, display a message congratulating the member for having enough money in this fund.\n",
    "\n",
    "* Else if the total portfolio value is equal to the emergency fund value, display a message congratulating the member on reaching this important financial goal.\n",
    "\n",
    "* Else the total portfolio is less than the emergency fund value, so display a message showing how many dollars away the member is from reaching the goal. (Subtract the total portfolio value from the emergency fund value.)"
   ]
  },
  {
   "cell_type": "code",
   "execution_count": 29,
   "metadata": {},
   "outputs": [
    {
     "name": "stdout",
     "output_type": "stream",
     "text": [
      "Congratulations! You have enough money for an emergency fund\n"
     ]
    }
   ],
   "source": [
    "# Evaluate the possibility of creating an emergency fund with 3 conditions:\n",
    "if total_portfolio > emergency_fund_value:\n",
    "    print(\"Congratulations! You have enough money for an emergency fund\")\n",
    "elif total_portfolio == emergency_fund_value:\n",
    "    print(\"Congratulations! You have just reached the limit required for an emergency fund\")\n",
    "else:\n",
    "    print(f\"To reach the limit for an emergency fund you still need $ {(emergency_fund_value-total_portfolio):.2f} of value in your portfolio\")\n",
    "# YOUR CODE HERE\n"
   ]
  },
  {
   "cell_type": "markdown",
   "metadata": {},
   "source": [
    "## Part 2: Create a Financial Planner for Retirement"
   ]
  },
  {
   "cell_type": "markdown",
   "metadata": {},
   "source": [
    "### Create the Monte Carlo Simulation\n",
    "\n",
    "In this section, you’ll use the MCForecastTools library to create a Monte Carlo simulation for the member’s savings portfolio. To do this, complete the following steps:\n",
    "\n",
    "1. Make an API call via the Alpaca SDK to get 3 years of historical closing prices for a traditional 60/40 portfolio split: 60% stocks (SPY) and 40% bonds (AGG).\n",
    "\n",
    "2. Run a Monte Carlo simulation of 500 samples and 30 years for the 60/40 portfolio, and then plot the results.The following image shows the overlay line plot resulting from a simulation with these characteristics. However, because a random number generator is used to run each live Monte Carlo simulation, your image will differ slightly from this exact image:\n",
    "\n",
    "![A screenshot depicts the resulting plot.](Images/5-4-monte-carlo-line-plot.png)\n",
    "\n",
    "3. Plot the probability distribution of the Monte Carlo simulation. Plot the probability distribution of the Monte Carlo simulation. The following image shows the histogram plot resulting from a simulation with these characteristics. However, because a random number generator is used to run each live Monte Carlo simulation, your image will differ slightly from this exact image:\n",
    "\n",
    "![A screenshot depicts the histogram plot.](Images/5-4-monte-carlo-histogram.png)\n",
    "\n",
    "4. Generate the summary statistics for the Monte Carlo simulation.\n",
    "\n"
   ]
  },
  {
   "cell_type": "markdown",
   "metadata": {},
   "source": [
    "#### Step 1: Make an API call via the Alpaca SDK to get 3 years of historical closing prices for a traditional 60/40 portfolio split: 60% stocks (SPY) and 40% bonds (AGG)."
   ]
  },
  {
   "cell_type": "code",
   "execution_count": 30,
   "metadata": {},
   "outputs": [
    {
     "name": "stdout",
     "output_type": "stream",
     "text": [
      "2019-01-21T00:00:00-05:00\n",
      "2022-01-21T00:00:00-05:00\n"
     ]
    }
   ],
   "source": [
    "# Set start and end dates of 3 years back from your current date\n",
    "# Alternatively, you can use an end date of 2020-08-07 and work 3 years back from that date \n",
    "today = pd.Timestamp('today',tz='America/New_York').round('d')\n",
    "end_date = today.isoformat()\n",
    "start_date = (today - pd.Timedelta(days=3*365+1)).isoformat()\n",
    "\n",
    "print(start_date)\n",
    "print(end_date)\n",
    "# Set number of rows to 1000 to retrieve the maximum amount of rows\n",
    "limit_rows = 1000"
   ]
  },
  {
   "cell_type": "code",
   "execution_count": 31,
   "metadata": {},
   "outputs": [
    {
     "name": "stdout",
     "output_type": "stream",
     "text": [
      "                              AGG                                        SPY  \\\n",
      "                             open     high     low    close   volume    open   \n",
      "time                                                                           \n",
      "2019-01-22 00:00:00-05:00  106.44  108.510  106.44  106.455  6646771  264.82   \n",
      "2019-01-23 00:00:00-05:00  106.38  106.590  106.37  106.530  2934313  264.01   \n",
      "2019-01-24 00:00:00-05:00  106.72  106.840  106.67  106.730  6586980  263.21   \n",
      "2019-01-25 00:00:00-05:00  106.64  106.700  106.56  106.675  3157633  265.61   \n",
      "2019-01-28 00:00:00-05:00  106.62  106.745  106.58  106.655  6372589  263.39   \n",
      "\n",
      "                                                                \n",
      "                             high       low    close    volume  \n",
      "time                                                            \n",
      "2019-01-22 00:00:00-05:00  265.06  261.0600  261.970  88775864  \n",
      "2019-01-23 00:00:00-05:00  264.79  260.6600  263.100  74195206  \n",
      "2019-01-24 00:00:00-05:00  264.20  262.0800  263.690  48407752  \n",
      "2019-01-25 00:00:00-05:00  266.70  263.6595  265.700  78094541  \n",
      "2019-01-28 00:00:00-05:00  263.82  261.7900  263.635  75207990   \n",
      "\n",
      "\n",
      "\n",
      "                              AGG                                        SPY  \\\n",
      "                             open     high     low    close   volume    open   \n",
      "time                                                                           \n",
      "2022-01-14 00:00:00-05:00  112.53  112.545  112.15  112.170  8341976  461.19   \n",
      "2022-01-18 00:00:00-05:00  111.81  111.860  111.47  111.490  7390142  459.73   \n",
      "2022-01-19 00:00:00-05:00  111.70  111.890  111.65  111.710  7641972  458.17   \n",
      "2022-01-20 00:00:00-05:00  111.84  111.900  111.75  111.790  6861797  453.75   \n",
      "2022-01-21 00:00:00-05:00  112.19  112.350  112.18  112.205  2425207  445.56   \n",
      "\n",
      "                                                                \n",
      "                               high     low   close     volume  \n",
      "time                                                            \n",
      "2022-01-14 00:00:00-05:00  465.0900  459.90  464.68   84172573  \n",
      "2022-01-18 00:00:00-05:00  459.9600  455.31  456.53   95565773  \n",
      "2022-01-19 00:00:00-05:00  459.6124  451.46  451.79   95311817  \n",
      "2022-01-20 00:00:00-05:00  458.7400  444.50  446.79  105009751  \n",
      "2022-01-21 00:00:00-05:00  446.6700  440.66  444.26   59705328  \n"
     ]
    }
   ],
   "source": [
    "# Use the Alpaca get_barset function to make the API call to get the 3 years worth of pricing data\n",
    "# The tickers and timeframe parameters should have been set in Part 1 of this activity \n",
    "# The start and end dates should be updated with the information set above\n",
    "# Remember to add the df property to the end of the call so the response is returned as a DataFrame\n",
    "prices_df = alpaca.get_barset(\n",
    "    tickers,\n",
    "    timeframe,\n",
    "    start=start_date,\n",
    "    end=end_date,\n",
    "    limit=limit_rows\n",
    ").df\n",
    "\n",
    "\n",
    "# Display both the first and last five rows of the DataFrame\n",
    "print(prices_df.head(),'\\n\\n\\n')\n",
    "print(prices_df.tail())\n"
   ]
  },
  {
   "cell_type": "markdown",
   "metadata": {},
   "source": [
    "#### Step 2: Run a Monte Carlo simulation of 500 samples and 30 years for the 60/40 portfolio, and then plot the results."
   ]
  },
  {
   "cell_type": "code",
   "execution_count": 32,
   "metadata": {},
   "outputs": [
    {
     "data": {
      "text/html": [
       "<div>\n",
       "<style scoped>\n",
       "    .dataframe tbody tr th:only-of-type {\n",
       "        vertical-align: middle;\n",
       "    }\n",
       "\n",
       "    .dataframe tbody tr th {\n",
       "        vertical-align: top;\n",
       "    }\n",
       "\n",
       "    .dataframe thead tr th {\n",
       "        text-align: left;\n",
       "    }\n",
       "\n",
       "    .dataframe thead tr:last-of-type th {\n",
       "        text-align: right;\n",
       "    }\n",
       "</style>\n",
       "<table border=\"1\" class=\"dataframe\">\n",
       "  <thead>\n",
       "    <tr>\n",
       "      <th></th>\n",
       "      <th colspan=\"6\" halign=\"left\">AGG</th>\n",
       "      <th colspan=\"6\" halign=\"left\">SPY</th>\n",
       "    </tr>\n",
       "    <tr>\n",
       "      <th></th>\n",
       "      <th>open</th>\n",
       "      <th>high</th>\n",
       "      <th>low</th>\n",
       "      <th>close</th>\n",
       "      <th>volume</th>\n",
       "      <th>daily_return</th>\n",
       "      <th>open</th>\n",
       "      <th>high</th>\n",
       "      <th>low</th>\n",
       "      <th>close</th>\n",
       "      <th>volume</th>\n",
       "      <th>daily_return</th>\n",
       "    </tr>\n",
       "    <tr>\n",
       "      <th>time</th>\n",
       "      <th></th>\n",
       "      <th></th>\n",
       "      <th></th>\n",
       "      <th></th>\n",
       "      <th></th>\n",
       "      <th></th>\n",
       "      <th></th>\n",
       "      <th></th>\n",
       "      <th></th>\n",
       "      <th></th>\n",
       "      <th></th>\n",
       "      <th></th>\n",
       "    </tr>\n",
       "  </thead>\n",
       "  <tbody>\n",
       "    <tr>\n",
       "      <th>2019-01-22 00:00:00-05:00</th>\n",
       "      <td>106.44</td>\n",
       "      <td>108.510</td>\n",
       "      <td>106.44</td>\n",
       "      <td>106.455</td>\n",
       "      <td>6646771</td>\n",
       "      <td>NaN</td>\n",
       "      <td>264.82</td>\n",
       "      <td>265.0600</td>\n",
       "      <td>261.0600</td>\n",
       "      <td>261.970</td>\n",
       "      <td>88775864</td>\n",
       "      <td>NaN</td>\n",
       "    </tr>\n",
       "    <tr>\n",
       "      <th>2019-01-23 00:00:00-05:00</th>\n",
       "      <td>106.38</td>\n",
       "      <td>106.590</td>\n",
       "      <td>106.37</td>\n",
       "      <td>106.530</td>\n",
       "      <td>2934313</td>\n",
       "      <td>0.000705</td>\n",
       "      <td>264.01</td>\n",
       "      <td>264.7900</td>\n",
       "      <td>260.6600</td>\n",
       "      <td>263.100</td>\n",
       "      <td>74195206</td>\n",
       "      <td>0.004313</td>\n",
       "    </tr>\n",
       "    <tr>\n",
       "      <th>2019-01-24 00:00:00-05:00</th>\n",
       "      <td>106.72</td>\n",
       "      <td>106.840</td>\n",
       "      <td>106.67</td>\n",
       "      <td>106.730</td>\n",
       "      <td>6586980</td>\n",
       "      <td>0.001877</td>\n",
       "      <td>263.21</td>\n",
       "      <td>264.2000</td>\n",
       "      <td>262.0800</td>\n",
       "      <td>263.690</td>\n",
       "      <td>48407752</td>\n",
       "      <td>0.002242</td>\n",
       "    </tr>\n",
       "    <tr>\n",
       "      <th>2019-01-25 00:00:00-05:00</th>\n",
       "      <td>106.64</td>\n",
       "      <td>106.700</td>\n",
       "      <td>106.56</td>\n",
       "      <td>106.675</td>\n",
       "      <td>3157633</td>\n",
       "      <td>-0.000515</td>\n",
       "      <td>265.61</td>\n",
       "      <td>266.7000</td>\n",
       "      <td>263.6595</td>\n",
       "      <td>265.700</td>\n",
       "      <td>78094541</td>\n",
       "      <td>0.007623</td>\n",
       "    </tr>\n",
       "    <tr>\n",
       "      <th>2019-01-28 00:00:00-05:00</th>\n",
       "      <td>106.62</td>\n",
       "      <td>106.745</td>\n",
       "      <td>106.58</td>\n",
       "      <td>106.655</td>\n",
       "      <td>6372589</td>\n",
       "      <td>-0.000187</td>\n",
       "      <td>263.39</td>\n",
       "      <td>263.8200</td>\n",
       "      <td>261.7900</td>\n",
       "      <td>263.635</td>\n",
       "      <td>75207990</td>\n",
       "      <td>-0.007772</td>\n",
       "    </tr>\n",
       "    <tr>\n",
       "      <th>...</th>\n",
       "      <td>...</td>\n",
       "      <td>...</td>\n",
       "      <td>...</td>\n",
       "      <td>...</td>\n",
       "      <td>...</td>\n",
       "      <td>...</td>\n",
       "      <td>...</td>\n",
       "      <td>...</td>\n",
       "      <td>...</td>\n",
       "      <td>...</td>\n",
       "      <td>...</td>\n",
       "      <td>...</td>\n",
       "    </tr>\n",
       "    <tr>\n",
       "      <th>2022-01-14 00:00:00-05:00</th>\n",
       "      <td>112.53</td>\n",
       "      <td>112.545</td>\n",
       "      <td>112.15</td>\n",
       "      <td>112.170</td>\n",
       "      <td>8341976</td>\n",
       "      <td>-0.005585</td>\n",
       "      <td>461.19</td>\n",
       "      <td>465.0900</td>\n",
       "      <td>459.9000</td>\n",
       "      <td>464.680</td>\n",
       "      <td>84172573</td>\n",
       "      <td>0.000301</td>\n",
       "    </tr>\n",
       "    <tr>\n",
       "      <th>2022-01-18 00:00:00-05:00</th>\n",
       "      <td>111.81</td>\n",
       "      <td>111.860</td>\n",
       "      <td>111.47</td>\n",
       "      <td>111.490</td>\n",
       "      <td>7390142</td>\n",
       "      <td>-0.006062</td>\n",
       "      <td>459.73</td>\n",
       "      <td>459.9600</td>\n",
       "      <td>455.3100</td>\n",
       "      <td>456.530</td>\n",
       "      <td>95565773</td>\n",
       "      <td>-0.017539</td>\n",
       "    </tr>\n",
       "    <tr>\n",
       "      <th>2022-01-19 00:00:00-05:00</th>\n",
       "      <td>111.70</td>\n",
       "      <td>111.890</td>\n",
       "      <td>111.65</td>\n",
       "      <td>111.710</td>\n",
       "      <td>7641972</td>\n",
       "      <td>0.001973</td>\n",
       "      <td>458.17</td>\n",
       "      <td>459.6124</td>\n",
       "      <td>451.4600</td>\n",
       "      <td>451.790</td>\n",
       "      <td>95311817</td>\n",
       "      <td>-0.010383</td>\n",
       "    </tr>\n",
       "    <tr>\n",
       "      <th>2022-01-20 00:00:00-05:00</th>\n",
       "      <td>111.84</td>\n",
       "      <td>111.900</td>\n",
       "      <td>111.75</td>\n",
       "      <td>111.790</td>\n",
       "      <td>6861797</td>\n",
       "      <td>0.000716</td>\n",
       "      <td>453.75</td>\n",
       "      <td>458.7400</td>\n",
       "      <td>444.5000</td>\n",
       "      <td>446.790</td>\n",
       "      <td>105009751</td>\n",
       "      <td>-0.011067</td>\n",
       "    </tr>\n",
       "    <tr>\n",
       "      <th>2022-01-21 00:00:00-05:00</th>\n",
       "      <td>112.19</td>\n",
       "      <td>112.350</td>\n",
       "      <td>112.18</td>\n",
       "      <td>112.205</td>\n",
       "      <td>2425207</td>\n",
       "      <td>0.003712</td>\n",
       "      <td>445.56</td>\n",
       "      <td>446.6700</td>\n",
       "      <td>440.6600</td>\n",
       "      <td>444.260</td>\n",
       "      <td>59705328</td>\n",
       "      <td>-0.005663</td>\n",
       "    </tr>\n",
       "  </tbody>\n",
       "</table>\n",
       "<p>758 rows × 12 columns</p>\n",
       "</div>"
      ],
      "text/plain": [
       "                              AGG                                     \\\n",
       "                             open     high     low    close   volume   \n",
       "time                                                                   \n",
       "2019-01-22 00:00:00-05:00  106.44  108.510  106.44  106.455  6646771   \n",
       "2019-01-23 00:00:00-05:00  106.38  106.590  106.37  106.530  2934313   \n",
       "2019-01-24 00:00:00-05:00  106.72  106.840  106.67  106.730  6586980   \n",
       "2019-01-25 00:00:00-05:00  106.64  106.700  106.56  106.675  3157633   \n",
       "2019-01-28 00:00:00-05:00  106.62  106.745  106.58  106.655  6372589   \n",
       "...                           ...      ...     ...      ...      ...   \n",
       "2022-01-14 00:00:00-05:00  112.53  112.545  112.15  112.170  8341976   \n",
       "2022-01-18 00:00:00-05:00  111.81  111.860  111.47  111.490  7390142   \n",
       "2022-01-19 00:00:00-05:00  111.70  111.890  111.65  111.710  7641972   \n",
       "2022-01-20 00:00:00-05:00  111.84  111.900  111.75  111.790  6861797   \n",
       "2022-01-21 00:00:00-05:00  112.19  112.350  112.18  112.205  2425207   \n",
       "\n",
       "                                           SPY                               \\\n",
       "                          daily_return    open      high       low    close   \n",
       "time                                                                          \n",
       "2019-01-22 00:00:00-05:00          NaN  264.82  265.0600  261.0600  261.970   \n",
       "2019-01-23 00:00:00-05:00     0.000705  264.01  264.7900  260.6600  263.100   \n",
       "2019-01-24 00:00:00-05:00     0.001877  263.21  264.2000  262.0800  263.690   \n",
       "2019-01-25 00:00:00-05:00    -0.000515  265.61  266.7000  263.6595  265.700   \n",
       "2019-01-28 00:00:00-05:00    -0.000187  263.39  263.8200  261.7900  263.635   \n",
       "...                                ...     ...       ...       ...      ...   \n",
       "2022-01-14 00:00:00-05:00    -0.005585  461.19  465.0900  459.9000  464.680   \n",
       "2022-01-18 00:00:00-05:00    -0.006062  459.73  459.9600  455.3100  456.530   \n",
       "2022-01-19 00:00:00-05:00     0.001973  458.17  459.6124  451.4600  451.790   \n",
       "2022-01-20 00:00:00-05:00     0.000716  453.75  458.7400  444.5000  446.790   \n",
       "2022-01-21 00:00:00-05:00     0.003712  445.56  446.6700  440.6600  444.260   \n",
       "\n",
       "                                                   \n",
       "                              volume daily_return  \n",
       "time                                               \n",
       "2019-01-22 00:00:00-05:00   88775864          NaN  \n",
       "2019-01-23 00:00:00-05:00   74195206     0.004313  \n",
       "2019-01-24 00:00:00-05:00   48407752     0.002242  \n",
       "2019-01-25 00:00:00-05:00   78094541     0.007623  \n",
       "2019-01-28 00:00:00-05:00   75207990    -0.007772  \n",
       "...                              ...          ...  \n",
       "2022-01-14 00:00:00-05:00   84172573     0.000301  \n",
       "2022-01-18 00:00:00-05:00   95565773    -0.017539  \n",
       "2022-01-19 00:00:00-05:00   95311817    -0.010383  \n",
       "2022-01-20 00:00:00-05:00  105009751    -0.011067  \n",
       "2022-01-21 00:00:00-05:00   59705328    -0.005663  \n",
       "\n",
       "[758 rows x 12 columns]"
      ]
     },
     "execution_count": 32,
     "metadata": {},
     "output_type": "execute_result"
    }
   ],
   "source": [
    "# Configure the Monte Carlo simulation to forecast 30 years cumulative returns\n",
    "# The weights should be split 40% to AGG and 60% to SPY.\n",
    "# Run 500 samples.\n",
    "MC_30y = MCSimulation(\n",
    "    portfolio_data=prices_df,\n",
    "    weights=[.6,.4],\n",
    "    num_simulation=500,\n",
    "    num_trading_days=30*252\n",
    ")\n",
    "\n",
    "# Review the simulation input data\n",
    "MC_30y.portfolio_data\n"
   ]
  },
  {
   "cell_type": "code",
   "execution_count": 33,
   "metadata": {},
   "outputs": [
    {
     "name": "stdout",
     "output_type": "stream",
     "text": [
      "Running Monte Carlo simulation number 0.\n",
      "Running Monte Carlo simulation number 10.\n",
      "Running Monte Carlo simulation number 20.\n",
      "Running Monte Carlo simulation number 30.\n",
      "Running Monte Carlo simulation number 40.\n",
      "Running Monte Carlo simulation number 50.\n",
      "Running Monte Carlo simulation number 60.\n",
      "Running Monte Carlo simulation number 70.\n",
      "Running Monte Carlo simulation number 80.\n",
      "Running Monte Carlo simulation number 90.\n",
      "Running Monte Carlo simulation number 100.\n"
     ]
    },
    {
     "name": "stderr",
     "output_type": "stream",
     "text": [
      "C:\\Users\\anton\\Desktop\\Columbia\\Challenges\\Challenge5\\MCForecastTools.py:117: PerformanceWarning: DataFrame is highly fragmented.  This is usually the result of calling `frame.insert` many times, which has poor performance.  Consider joining all columns at once using pd.concat(axis=1) instead.  To get a de-fragmented frame, use `newframe = frame.copy()`\n",
      "  portfolio_cumulative_returns[n] = (1 + sim_df.fillna(0)).cumprod()\n"
     ]
    },
    {
     "name": "stdout",
     "output_type": "stream",
     "text": [
      "Running Monte Carlo simulation number 110.\n",
      "Running Monte Carlo simulation number 120.\n",
      "Running Monte Carlo simulation number 130.\n",
      "Running Monte Carlo simulation number 140.\n",
      "Running Monte Carlo simulation number 150.\n",
      "Running Monte Carlo simulation number 160.\n",
      "Running Monte Carlo simulation number 170.\n",
      "Running Monte Carlo simulation number 180.\n",
      "Running Monte Carlo simulation number 190.\n",
      "Running Monte Carlo simulation number 200.\n",
      "Running Monte Carlo simulation number 210.\n",
      "Running Monte Carlo simulation number 220.\n",
      "Running Monte Carlo simulation number 230.\n",
      "Running Monte Carlo simulation number 240.\n",
      "Running Monte Carlo simulation number 250.\n",
      "Running Monte Carlo simulation number 260.\n",
      "Running Monte Carlo simulation number 270.\n",
      "Running Monte Carlo simulation number 280.\n",
      "Running Monte Carlo simulation number 290.\n",
      "Running Monte Carlo simulation number 300.\n",
      "Running Monte Carlo simulation number 310.\n",
      "Running Monte Carlo simulation number 320.\n",
      "Running Monte Carlo simulation number 330.\n",
      "Running Monte Carlo simulation number 340.\n",
      "Running Monte Carlo simulation number 350.\n",
      "Running Monte Carlo simulation number 360.\n",
      "Running Monte Carlo simulation number 370.\n",
      "Running Monte Carlo simulation number 380.\n",
      "Running Monte Carlo simulation number 390.\n",
      "Running Monte Carlo simulation number 400.\n",
      "Running Monte Carlo simulation number 410.\n",
      "Running Monte Carlo simulation number 420.\n",
      "Running Monte Carlo simulation number 430.\n",
      "Running Monte Carlo simulation number 440.\n",
      "Running Monte Carlo simulation number 450.\n",
      "Running Monte Carlo simulation number 460.\n",
      "Running Monte Carlo simulation number 470.\n",
      "Running Monte Carlo simulation number 480.\n",
      "Running Monte Carlo simulation number 490.\n"
     ]
    },
    {
     "data": {
      "text/html": [
       "<div>\n",
       "<style scoped>\n",
       "    .dataframe tbody tr th:only-of-type {\n",
       "        vertical-align: middle;\n",
       "    }\n",
       "\n",
       "    .dataframe tbody tr th {\n",
       "        vertical-align: top;\n",
       "    }\n",
       "\n",
       "    .dataframe thead th {\n",
       "        text-align: right;\n",
       "    }\n",
       "</style>\n",
       "<table border=\"1\" class=\"dataframe\">\n",
       "  <thead>\n",
       "    <tr style=\"text-align: right;\">\n",
       "      <th></th>\n",
       "      <th>0</th>\n",
       "      <th>1</th>\n",
       "      <th>2</th>\n",
       "      <th>3</th>\n",
       "      <th>4</th>\n",
       "      <th>5</th>\n",
       "      <th>6</th>\n",
       "      <th>7</th>\n",
       "      <th>8</th>\n",
       "      <th>9</th>\n",
       "      <th>...</th>\n",
       "      <th>490</th>\n",
       "      <th>491</th>\n",
       "      <th>492</th>\n",
       "      <th>493</th>\n",
       "      <th>494</th>\n",
       "      <th>495</th>\n",
       "      <th>496</th>\n",
       "      <th>497</th>\n",
       "      <th>498</th>\n",
       "      <th>499</th>\n",
       "    </tr>\n",
       "  </thead>\n",
       "  <tbody>\n",
       "    <tr>\n",
       "      <th>0</th>\n",
       "      <td>1.000000</td>\n",
       "      <td>1.000000</td>\n",
       "      <td>1.000000</td>\n",
       "      <td>1.000000</td>\n",
       "      <td>1.000000</td>\n",
       "      <td>1.000000</td>\n",
       "      <td>1.000000</td>\n",
       "      <td>1.000000</td>\n",
       "      <td>1.000000</td>\n",
       "      <td>1.000000</td>\n",
       "      <td>...</td>\n",
       "      <td>1.000000</td>\n",
       "      <td>1.000000</td>\n",
       "      <td>1.000000</td>\n",
       "      <td>1.000000</td>\n",
       "      <td>1.000000</td>\n",
       "      <td>1.000000</td>\n",
       "      <td>1.000000</td>\n",
       "      <td>1.000000</td>\n",
       "      <td>1.000000</td>\n",
       "      <td>1.000000</td>\n",
       "    </tr>\n",
       "    <tr>\n",
       "      <th>1</th>\n",
       "      <td>1.003519</td>\n",
       "      <td>0.989377</td>\n",
       "      <td>1.002591</td>\n",
       "      <td>1.000794</td>\n",
       "      <td>1.006414</td>\n",
       "      <td>0.993155</td>\n",
       "      <td>1.011145</td>\n",
       "      <td>1.001702</td>\n",
       "      <td>1.015459</td>\n",
       "      <td>1.002206</td>\n",
       "      <td>...</td>\n",
       "      <td>1.001601</td>\n",
       "      <td>0.997501</td>\n",
       "      <td>1.002683</td>\n",
       "      <td>0.992097</td>\n",
       "      <td>1.001810</td>\n",
       "      <td>1.006653</td>\n",
       "      <td>1.009525</td>\n",
       "      <td>0.999384</td>\n",
       "      <td>1.000191</td>\n",
       "      <td>1.001786</td>\n",
       "    </tr>\n",
       "    <tr>\n",
       "      <th>2</th>\n",
       "      <td>1.002108</td>\n",
       "      <td>0.992172</td>\n",
       "      <td>1.018752</td>\n",
       "      <td>0.998964</td>\n",
       "      <td>1.013347</td>\n",
       "      <td>0.989368</td>\n",
       "      <td>1.002124</td>\n",
       "      <td>1.001880</td>\n",
       "      <td>1.018631</td>\n",
       "      <td>1.005289</td>\n",
       "      <td>...</td>\n",
       "      <td>0.996358</td>\n",
       "      <td>0.995435</td>\n",
       "      <td>0.993833</td>\n",
       "      <td>0.992581</td>\n",
       "      <td>0.998797</td>\n",
       "      <td>1.019891</td>\n",
       "      <td>1.006556</td>\n",
       "      <td>0.999913</td>\n",
       "      <td>1.001744</td>\n",
       "      <td>0.992048</td>\n",
       "    </tr>\n",
       "    <tr>\n",
       "      <th>3</th>\n",
       "      <td>1.000607</td>\n",
       "      <td>0.987454</td>\n",
       "      <td>1.019556</td>\n",
       "      <td>0.992766</td>\n",
       "      <td>1.008513</td>\n",
       "      <td>0.992501</td>\n",
       "      <td>0.999872</td>\n",
       "      <td>1.013519</td>\n",
       "      <td>1.018191</td>\n",
       "      <td>1.007636</td>\n",
       "      <td>...</td>\n",
       "      <td>0.989171</td>\n",
       "      <td>0.994617</td>\n",
       "      <td>0.998326</td>\n",
       "      <td>0.992710</td>\n",
       "      <td>1.000635</td>\n",
       "      <td>1.027352</td>\n",
       "      <td>1.011242</td>\n",
       "      <td>0.996008</td>\n",
       "      <td>0.997834</td>\n",
       "      <td>0.984531</td>\n",
       "    </tr>\n",
       "    <tr>\n",
       "      <th>4</th>\n",
       "      <td>1.013888</td>\n",
       "      <td>0.984207</td>\n",
       "      <td>1.018525</td>\n",
       "      <td>0.991481</td>\n",
       "      <td>1.017298</td>\n",
       "      <td>1.003027</td>\n",
       "      <td>1.003866</td>\n",
       "      <td>1.018800</td>\n",
       "      <td>1.021252</td>\n",
       "      <td>1.010709</td>\n",
       "      <td>...</td>\n",
       "      <td>0.997318</td>\n",
       "      <td>0.991216</td>\n",
       "      <td>1.000946</td>\n",
       "      <td>0.994335</td>\n",
       "      <td>1.011729</td>\n",
       "      <td>1.015242</td>\n",
       "      <td>1.010585</td>\n",
       "      <td>0.996782</td>\n",
       "      <td>1.003349</td>\n",
       "      <td>0.994322</td>\n",
       "    </tr>\n",
       "    <tr>\n",
       "      <th>...</th>\n",
       "      <td>...</td>\n",
       "      <td>...</td>\n",
       "      <td>...</td>\n",
       "      <td>...</td>\n",
       "      <td>...</td>\n",
       "      <td>...</td>\n",
       "      <td>...</td>\n",
       "      <td>...</td>\n",
       "      <td>...</td>\n",
       "      <td>...</td>\n",
       "      <td>...</td>\n",
       "      <td>...</td>\n",
       "      <td>...</td>\n",
       "      <td>...</td>\n",
       "      <td>...</td>\n",
       "      <td>...</td>\n",
       "      <td>...</td>\n",
       "      <td>...</td>\n",
       "      <td>...</td>\n",
       "      <td>...</td>\n",
       "      <td>...</td>\n",
       "    </tr>\n",
       "    <tr>\n",
       "      <th>7556</th>\n",
       "      <td>7.833749</td>\n",
       "      <td>12.044809</td>\n",
       "      <td>11.371652</td>\n",
       "      <td>8.306111</td>\n",
       "      <td>11.193296</td>\n",
       "      <td>28.754098</td>\n",
       "      <td>4.239587</td>\n",
       "      <td>9.597331</td>\n",
       "      <td>10.555419</td>\n",
       "      <td>19.117850</td>\n",
       "      <td>...</td>\n",
       "      <td>13.604559</td>\n",
       "      <td>20.060882</td>\n",
       "      <td>13.467027</td>\n",
       "      <td>7.200175</td>\n",
       "      <td>11.664728</td>\n",
       "      <td>22.087631</td>\n",
       "      <td>16.085068</td>\n",
       "      <td>6.423124</td>\n",
       "      <td>12.174603</td>\n",
       "      <td>7.117381</td>\n",
       "    </tr>\n",
       "    <tr>\n",
       "      <th>7557</th>\n",
       "      <td>7.806483</td>\n",
       "      <td>12.091889</td>\n",
       "      <td>11.332188</td>\n",
       "      <td>8.277524</td>\n",
       "      <td>11.178870</td>\n",
       "      <td>28.669467</td>\n",
       "      <td>4.234952</td>\n",
       "      <td>9.571981</td>\n",
       "      <td>10.596262</td>\n",
       "      <td>19.109377</td>\n",
       "      <td>...</td>\n",
       "      <td>13.603011</td>\n",
       "      <td>19.957648</td>\n",
       "      <td>13.406121</td>\n",
       "      <td>7.170124</td>\n",
       "      <td>11.667398</td>\n",
       "      <td>22.121362</td>\n",
       "      <td>16.118593</td>\n",
       "      <td>6.425822</td>\n",
       "      <td>12.036834</td>\n",
       "      <td>7.178637</td>\n",
       "    </tr>\n",
       "    <tr>\n",
       "      <th>7558</th>\n",
       "      <td>7.791894</td>\n",
       "      <td>12.166055</td>\n",
       "      <td>11.390545</td>\n",
       "      <td>8.239948</td>\n",
       "      <td>11.248550</td>\n",
       "      <td>28.598323</td>\n",
       "      <td>4.215141</td>\n",
       "      <td>9.619805</td>\n",
       "      <td>10.783674</td>\n",
       "      <td>19.131986</td>\n",
       "      <td>...</td>\n",
       "      <td>13.621001</td>\n",
       "      <td>19.801409</td>\n",
       "      <td>13.353119</td>\n",
       "      <td>7.171393</td>\n",
       "      <td>11.704774</td>\n",
       "      <td>22.182472</td>\n",
       "      <td>16.113782</td>\n",
       "      <td>6.426267</td>\n",
       "      <td>11.890903</td>\n",
       "      <td>7.079125</td>\n",
       "    </tr>\n",
       "    <tr>\n",
       "      <th>7559</th>\n",
       "      <td>7.841073</td>\n",
       "      <td>12.119683</td>\n",
       "      <td>11.392228</td>\n",
       "      <td>8.258903</td>\n",
       "      <td>11.174535</td>\n",
       "      <td>28.453346</td>\n",
       "      <td>4.201348</td>\n",
       "      <td>9.554360</td>\n",
       "      <td>10.729672</td>\n",
       "      <td>19.133765</td>\n",
       "      <td>...</td>\n",
       "      <td>13.500583</td>\n",
       "      <td>19.649228</td>\n",
       "      <td>13.336420</td>\n",
       "      <td>7.168767</td>\n",
       "      <td>11.703505</td>\n",
       "      <td>22.200384</td>\n",
       "      <td>16.113153</td>\n",
       "      <td>6.411821</td>\n",
       "      <td>11.800459</td>\n",
       "      <td>7.105335</td>\n",
       "    </tr>\n",
       "    <tr>\n",
       "      <th>7560</th>\n",
       "      <td>7.894166</td>\n",
       "      <td>12.130504</td>\n",
       "      <td>11.357280</td>\n",
       "      <td>8.256133</td>\n",
       "      <td>11.288963</td>\n",
       "      <td>28.267319</td>\n",
       "      <td>4.229094</td>\n",
       "      <td>9.551312</td>\n",
       "      <td>10.679517</td>\n",
       "      <td>19.216314</td>\n",
       "      <td>...</td>\n",
       "      <td>13.561506</td>\n",
       "      <td>19.833631</td>\n",
       "      <td>13.217636</td>\n",
       "      <td>7.113639</td>\n",
       "      <td>11.518942</td>\n",
       "      <td>22.196945</td>\n",
       "      <td>16.055234</td>\n",
       "      <td>6.419994</td>\n",
       "      <td>11.896599</td>\n",
       "      <td>7.144749</td>\n",
       "    </tr>\n",
       "  </tbody>\n",
       "</table>\n",
       "<p>7561 rows × 500 columns</p>\n",
       "</div>"
      ],
      "text/plain": [
       "           0          1          2         3          4          5    \\\n",
       "0     1.000000   1.000000   1.000000  1.000000   1.000000   1.000000   \n",
       "1     1.003519   0.989377   1.002591  1.000794   1.006414   0.993155   \n",
       "2     1.002108   0.992172   1.018752  0.998964   1.013347   0.989368   \n",
       "3     1.000607   0.987454   1.019556  0.992766   1.008513   0.992501   \n",
       "4     1.013888   0.984207   1.018525  0.991481   1.017298   1.003027   \n",
       "...        ...        ...        ...       ...        ...        ...   \n",
       "7556  7.833749  12.044809  11.371652  8.306111  11.193296  28.754098   \n",
       "7557  7.806483  12.091889  11.332188  8.277524  11.178870  28.669467   \n",
       "7558  7.791894  12.166055  11.390545  8.239948  11.248550  28.598323   \n",
       "7559  7.841073  12.119683  11.392228  8.258903  11.174535  28.453346   \n",
       "7560  7.894166  12.130504  11.357280  8.256133  11.288963  28.267319   \n",
       "\n",
       "           6         7          8          9    ...        490        491  \\\n",
       "0     1.000000  1.000000   1.000000   1.000000  ...   1.000000   1.000000   \n",
       "1     1.011145  1.001702   1.015459   1.002206  ...   1.001601   0.997501   \n",
       "2     1.002124  1.001880   1.018631   1.005289  ...   0.996358   0.995435   \n",
       "3     0.999872  1.013519   1.018191   1.007636  ...   0.989171   0.994617   \n",
       "4     1.003866  1.018800   1.021252   1.010709  ...   0.997318   0.991216   \n",
       "...        ...       ...        ...        ...  ...        ...        ...   \n",
       "7556  4.239587  9.597331  10.555419  19.117850  ...  13.604559  20.060882   \n",
       "7557  4.234952  9.571981  10.596262  19.109377  ...  13.603011  19.957648   \n",
       "7558  4.215141  9.619805  10.783674  19.131986  ...  13.621001  19.801409   \n",
       "7559  4.201348  9.554360  10.729672  19.133765  ...  13.500583  19.649228   \n",
       "7560  4.229094  9.551312  10.679517  19.216314  ...  13.561506  19.833631   \n",
       "\n",
       "            492       493        494        495        496       497  \\\n",
       "0      1.000000  1.000000   1.000000   1.000000   1.000000  1.000000   \n",
       "1      1.002683  0.992097   1.001810   1.006653   1.009525  0.999384   \n",
       "2      0.993833  0.992581   0.998797   1.019891   1.006556  0.999913   \n",
       "3      0.998326  0.992710   1.000635   1.027352   1.011242  0.996008   \n",
       "4      1.000946  0.994335   1.011729   1.015242   1.010585  0.996782   \n",
       "...         ...       ...        ...        ...        ...       ...   \n",
       "7556  13.467027  7.200175  11.664728  22.087631  16.085068  6.423124   \n",
       "7557  13.406121  7.170124  11.667398  22.121362  16.118593  6.425822   \n",
       "7558  13.353119  7.171393  11.704774  22.182472  16.113782  6.426267   \n",
       "7559  13.336420  7.168767  11.703505  22.200384  16.113153  6.411821   \n",
       "7560  13.217636  7.113639  11.518942  22.196945  16.055234  6.419994   \n",
       "\n",
       "            498       499  \n",
       "0      1.000000  1.000000  \n",
       "1      1.000191  1.001786  \n",
       "2      1.001744  0.992048  \n",
       "3      0.997834  0.984531  \n",
       "4      1.003349  0.994322  \n",
       "...         ...       ...  \n",
       "7556  12.174603  7.117381  \n",
       "7557  12.036834  7.178637  \n",
       "7558  11.890903  7.079125  \n",
       "7559  11.800459  7.105335  \n",
       "7560  11.896599  7.144749  \n",
       "\n",
       "[7561 rows x 500 columns]"
      ]
     },
     "execution_count": 33,
     "metadata": {},
     "output_type": "execute_result"
    }
   ],
   "source": [
    "# Run the Monte Carlo simulation to forecast 30 years cumulative returns\n",
    "MC_30y.calc_cumulative_return()\n"
   ]
  },
  {
   "cell_type": "code",
   "execution_count": 34,
   "metadata": {},
   "outputs": [
    {
     "data": {
      "image/png": "[encoded data removed]",
      "text/plain": [
       "<Figure size 432x288 with 1 Axes>"
      ]
     },
     "metadata": {
      "needs_background": "light"
     },
     "output_type": "display_data"
    }
   ],
   "source": [
    "# Visualize the 30-year Monte Carlo simulation by creating an\n",
    "# overlay line plot\n",
    "line_plot_30y = MC_30y.plot_simulation()\n"
   ]
  },
  {
   "cell_type": "markdown",
   "metadata": {},
   "source": [
    "#### Step 3: Plot the probability distribution of the Monte Carlo simulation."
   ]
  },
  {
   "cell_type": "code",
   "execution_count": 35,
   "metadata": {},
   "outputs": [
    {
     "data": {
      "image/png": "[encoded data removed]",
      "text/plain": [
       "<Figure size 432x288 with 1 Axes>"
      ]
     },
     "metadata": {
      "needs_background": "light"
     },
     "output_type": "display_data"
    }
   ],
   "source": [
    "# Visualize the probability distribution of the 30-year Monte Carlo simulation \n",
    "# by plotting a histogram\n",
    "distr_plot_30y = MC_30y.plot_distribution()\n"
   ]
  },
  {
   "cell_type": "markdown",
   "metadata": {},
   "source": [
    "#### Step 4: Generate the summary statistics for the Monte Carlo simulation."
   ]
  },
  {
   "cell_type": "code",
   "execution_count": 36,
   "metadata": {},
   "outputs": [
    {
     "data": {
      "text/plain": [
       "count           500.000000\n",
       "mean             15.146140\n",
       "std               7.770596\n",
       "min               3.845088\n",
       "25%               9.628954\n",
       "50%              13.100257\n",
       "75%              19.478015\n",
       "max              49.632582\n",
       "95% CI Lower      4.949754\n",
       "95% CI Upper     34.920761\n",
       "Name: 7560, dtype: float64"
      ]
     },
     "execution_count": 36,
     "metadata": {},
     "output_type": "execute_result"
    }
   ],
   "source": [
    "# Generate summary statistics from the 30-year Monte Carlo simulation results\n",
    "# Save the results as a variable\n",
    "table_30y = MC_30y.summarize_cumulative_return()\n",
    "\n",
    "\n",
    "# Review the 30-year Monte Carlo summary statistics\n",
    "table_30y"
   ]
  },
  {
   "cell_type": "markdown",
   "metadata": {},
   "source": [
    "### Analyze the Retirement Portfolio Forecasts\n",
    "\n",
    "Using the current value of only the stock and bond portion of the member's portfolio and the summary statistics that you generated from the Monte Carlo simulation, answer the following question in your Jupyter notebook:\n",
    "\n",
    "-  What are the lower and upper bounds for the expected value of the portfolio with a 95% confidence interval?\n"
   ]
  },
  {
   "cell_type": "code",
   "execution_count": 37,
   "metadata": {},
   "outputs": [
    {
     "name": "stdout",
     "output_type": "stream",
     "text": [
      "The current balance of the portfolio's portion in bond and stock is: $ 138504.90\n"
     ]
    }
   ],
   "source": [
    "# Print the current balance of the stock and bond portion of the members portfolio\n",
    "print(f\"The current balance of the portfolio's portion in bond and stock is: $ {total_stocks_bonds:.2f}\")\n"
   ]
  },
  {
   "cell_type": "code",
   "execution_count": 38,
   "metadata": {},
   "outputs": [
    {
     "name": "stdout",
     "output_type": "stream",
     "text": [
      "Lower cumulative return in the 95% confidence band: $ 685565.18\n",
      "Upper cumulative return in the 95% confidence band: $ 4836696.57\n"
     ]
    }
   ],
   "source": [
    "# Use the lower and upper `95%` confidence intervals to calculate the range of the possible outcomes for the current stock/bond portfolio\n",
    "ci_lower_thirty_cumulative_return = table_30y.loc['95% CI Lower']*total_stocks_bonds\n",
    "ci_upper_thirty_cumulative_return = table_30y.loc['95% CI Upper']*total_stocks_bonds\n",
    "\n",
    "# Print the result of your calculations\n",
    "print(f\"Lower cumulative return in the 95% confidence band: $ {ci_lower_thirty_cumulative_return:.2f}\")\n",
    "print(f\"Upper cumulative return in the 95% confidence band: $ {ci_upper_thirty_cumulative_return:.2f}\")\n",
    "      "
   ]
  },
  {
   "cell_type": "markdown",
   "metadata": {},
   "source": [
    "### Forecast Cumulative Returns in 10 Years\n",
    "\n",
    "The CTO of the credit union is impressed with your work on these planning tools but wonders if 30 years is a long time to wait until retirement. So, your next task is to adjust the retirement portfolio and run a new Monte Carlo simulation to find out if the changes will allow members to retire earlier.\n",
    "\n",
    "For this new Monte Carlo simulation, do the following: \n",
    "\n",
    "- Forecast the cumulative returns for 10 years from now. Because of the shortened investment horizon (30 years to 10 years), the portfolio needs to invest more heavily in the riskier asset&mdash;that is, stock&mdash;to help accumulate wealth for retirement. \n",
    "\n",
    "- Adjust the weights of the retirement portfolio so that the composition for the Monte Carlo simulation consists of 20% bonds and 80% stocks. \n",
    "\n",
    "- Run the simulation over 500 samples, and use the same data that the API call to Alpaca generated.\n",
    "\n",
    "- Based on the new Monte Carlo simulation, answer the following questions in your Jupyter notebook:\n",
    "\n",
    "    - Using the current value of only the stock and bond portion of the member's portfolio and the summary statistics that you generated from the new Monte Carlo simulation, what are the lower and upper bounds for the expected value of the portfolio (with the new weights) with a 95% confidence interval?\n",
    "\n",
    "    - Will weighting the portfolio more heavily toward stocks allow the credit union members to retire after only 10 years?\n"
   ]
  },
  {
   "cell_type": "code",
   "execution_count": 39,
   "metadata": {},
   "outputs": [
    {
     "data": {
      "text/html": [
       "<div>\n",
       "<style scoped>\n",
       "    .dataframe tbody tr th:only-of-type {\n",
       "        vertical-align: middle;\n",
       "    }\n",
       "\n",
       "    .dataframe tbody tr th {\n",
       "        vertical-align: top;\n",
       "    }\n",
       "\n",
       "    .dataframe thead tr th {\n",
       "        text-align: left;\n",
       "    }\n",
       "\n",
       "    .dataframe thead tr:last-of-type th {\n",
       "        text-align: right;\n",
       "    }\n",
       "</style>\n",
       "<table border=\"1\" class=\"dataframe\">\n",
       "  <thead>\n",
       "    <tr>\n",
       "      <th></th>\n",
       "      <th colspan=\"6\" halign=\"left\">AGG</th>\n",
       "      <th colspan=\"6\" halign=\"left\">SPY</th>\n",
       "    </tr>\n",
       "    <tr>\n",
       "      <th></th>\n",
       "      <th>open</th>\n",
       "      <th>high</th>\n",
       "      <th>low</th>\n",
       "      <th>close</th>\n",
       "      <th>volume</th>\n",
       "      <th>daily_return</th>\n",
       "      <th>open</th>\n",
       "      <th>high</th>\n",
       "      <th>low</th>\n",
       "      <th>close</th>\n",
       "      <th>volume</th>\n",
       "      <th>daily_return</th>\n",
       "    </tr>\n",
       "    <tr>\n",
       "      <th>time</th>\n",
       "      <th></th>\n",
       "      <th></th>\n",
       "      <th></th>\n",
       "      <th></th>\n",
       "      <th></th>\n",
       "      <th></th>\n",
       "      <th></th>\n",
       "      <th></th>\n",
       "      <th></th>\n",
       "      <th></th>\n",
       "      <th></th>\n",
       "      <th></th>\n",
       "    </tr>\n",
       "  </thead>\n",
       "  <tbody>\n",
       "    <tr>\n",
       "      <th>2019-01-22 00:00:00-05:00</th>\n",
       "      <td>106.44</td>\n",
       "      <td>108.510</td>\n",
       "      <td>106.44</td>\n",
       "      <td>106.455</td>\n",
       "      <td>6646771</td>\n",
       "      <td>NaN</td>\n",
       "      <td>264.82</td>\n",
       "      <td>265.0600</td>\n",
       "      <td>261.0600</td>\n",
       "      <td>261.970</td>\n",
       "      <td>88775864</td>\n",
       "      <td>NaN</td>\n",
       "    </tr>\n",
       "    <tr>\n",
       "      <th>2019-01-23 00:00:00-05:00</th>\n",
       "      <td>106.38</td>\n",
       "      <td>106.590</td>\n",
       "      <td>106.37</td>\n",
       "      <td>106.530</td>\n",
       "      <td>2934313</td>\n",
       "      <td>0.000705</td>\n",
       "      <td>264.01</td>\n",
       "      <td>264.7900</td>\n",
       "      <td>260.6600</td>\n",
       "      <td>263.100</td>\n",
       "      <td>74195206</td>\n",
       "      <td>0.004313</td>\n",
       "    </tr>\n",
       "    <tr>\n",
       "      <th>2019-01-24 00:00:00-05:00</th>\n",
       "      <td>106.72</td>\n",
       "      <td>106.840</td>\n",
       "      <td>106.67</td>\n",
       "      <td>106.730</td>\n",
       "      <td>6586980</td>\n",
       "      <td>0.001877</td>\n",
       "      <td>263.21</td>\n",
       "      <td>264.2000</td>\n",
       "      <td>262.0800</td>\n",
       "      <td>263.690</td>\n",
       "      <td>48407752</td>\n",
       "      <td>0.002242</td>\n",
       "    </tr>\n",
       "    <tr>\n",
       "      <th>2019-01-25 00:00:00-05:00</th>\n",
       "      <td>106.64</td>\n",
       "      <td>106.700</td>\n",
       "      <td>106.56</td>\n",
       "      <td>106.675</td>\n",
       "      <td>3157633</td>\n",
       "      <td>-0.000515</td>\n",
       "      <td>265.61</td>\n",
       "      <td>266.7000</td>\n",
       "      <td>263.6595</td>\n",
       "      <td>265.700</td>\n",
       "      <td>78094541</td>\n",
       "      <td>0.007623</td>\n",
       "    </tr>\n",
       "    <tr>\n",
       "      <th>2019-01-28 00:00:00-05:00</th>\n",
       "      <td>106.62</td>\n",
       "      <td>106.745</td>\n",
       "      <td>106.58</td>\n",
       "      <td>106.655</td>\n",
       "      <td>6372589</td>\n",
       "      <td>-0.000187</td>\n",
       "      <td>263.39</td>\n",
       "      <td>263.8200</td>\n",
       "      <td>261.7900</td>\n",
       "      <td>263.635</td>\n",
       "      <td>75207990</td>\n",
       "      <td>-0.007772</td>\n",
       "    </tr>\n",
       "    <tr>\n",
       "      <th>...</th>\n",
       "      <td>...</td>\n",
       "      <td>...</td>\n",
       "      <td>...</td>\n",
       "      <td>...</td>\n",
       "      <td>...</td>\n",
       "      <td>...</td>\n",
       "      <td>...</td>\n",
       "      <td>...</td>\n",
       "      <td>...</td>\n",
       "      <td>...</td>\n",
       "      <td>...</td>\n",
       "      <td>...</td>\n",
       "    </tr>\n",
       "    <tr>\n",
       "      <th>2022-01-14 00:00:00-05:00</th>\n",
       "      <td>112.53</td>\n",
       "      <td>112.545</td>\n",
       "      <td>112.15</td>\n",
       "      <td>112.170</td>\n",
       "      <td>8341976</td>\n",
       "      <td>-0.005585</td>\n",
       "      <td>461.19</td>\n",
       "      <td>465.0900</td>\n",
       "      <td>459.9000</td>\n",
       "      <td>464.680</td>\n",
       "      <td>84172573</td>\n",
       "      <td>0.000301</td>\n",
       "    </tr>\n",
       "    <tr>\n",
       "      <th>2022-01-18 00:00:00-05:00</th>\n",
       "      <td>111.81</td>\n",
       "      <td>111.860</td>\n",
       "      <td>111.47</td>\n",
       "      <td>111.490</td>\n",
       "      <td>7390142</td>\n",
       "      <td>-0.006062</td>\n",
       "      <td>459.73</td>\n",
       "      <td>459.9600</td>\n",
       "      <td>455.3100</td>\n",
       "      <td>456.530</td>\n",
       "      <td>95565773</td>\n",
       "      <td>-0.017539</td>\n",
       "    </tr>\n",
       "    <tr>\n",
       "      <th>2022-01-19 00:00:00-05:00</th>\n",
       "      <td>111.70</td>\n",
       "      <td>111.890</td>\n",
       "      <td>111.65</td>\n",
       "      <td>111.710</td>\n",
       "      <td>7641972</td>\n",
       "      <td>0.001973</td>\n",
       "      <td>458.17</td>\n",
       "      <td>459.6124</td>\n",
       "      <td>451.4600</td>\n",
       "      <td>451.790</td>\n",
       "      <td>95311817</td>\n",
       "      <td>-0.010383</td>\n",
       "    </tr>\n",
       "    <tr>\n",
       "      <th>2022-01-20 00:00:00-05:00</th>\n",
       "      <td>111.84</td>\n",
       "      <td>111.900</td>\n",
       "      <td>111.75</td>\n",
       "      <td>111.790</td>\n",
       "      <td>6861797</td>\n",
       "      <td>0.000716</td>\n",
       "      <td>453.75</td>\n",
       "      <td>458.7400</td>\n",
       "      <td>444.5000</td>\n",
       "      <td>446.790</td>\n",
       "      <td>105009751</td>\n",
       "      <td>-0.011067</td>\n",
       "    </tr>\n",
       "    <tr>\n",
       "      <th>2022-01-21 00:00:00-05:00</th>\n",
       "      <td>112.19</td>\n",
       "      <td>112.350</td>\n",
       "      <td>112.18</td>\n",
       "      <td>112.205</td>\n",
       "      <td>2425207</td>\n",
       "      <td>0.003712</td>\n",
       "      <td>445.56</td>\n",
       "      <td>446.6700</td>\n",
       "      <td>440.6600</td>\n",
       "      <td>444.260</td>\n",
       "      <td>59705328</td>\n",
       "      <td>-0.005663</td>\n",
       "    </tr>\n",
       "  </tbody>\n",
       "</table>\n",
       "<p>758 rows × 12 columns</p>\n",
       "</div>"
      ],
      "text/plain": [
       "                              AGG                                     \\\n",
       "                             open     high     low    close   volume   \n",
       "time                                                                   \n",
       "2019-01-22 00:00:00-05:00  106.44  108.510  106.44  106.455  6646771   \n",
       "2019-01-23 00:00:00-05:00  106.38  106.590  106.37  106.530  2934313   \n",
       "2019-01-24 00:00:00-05:00  106.72  106.840  106.67  106.730  6586980   \n",
       "2019-01-25 00:00:00-05:00  106.64  106.700  106.56  106.675  3157633   \n",
       "2019-01-28 00:00:00-05:00  106.62  106.745  106.58  106.655  6372589   \n",
       "...                           ...      ...     ...      ...      ...   \n",
       "2022-01-14 00:00:00-05:00  112.53  112.545  112.15  112.170  8341976   \n",
       "2022-01-18 00:00:00-05:00  111.81  111.860  111.47  111.490  7390142   \n",
       "2022-01-19 00:00:00-05:00  111.70  111.890  111.65  111.710  7641972   \n",
       "2022-01-20 00:00:00-05:00  111.84  111.900  111.75  111.790  6861797   \n",
       "2022-01-21 00:00:00-05:00  112.19  112.350  112.18  112.205  2425207   \n",
       "\n",
       "                                           SPY                               \\\n",
       "                          daily_return    open      high       low    close   \n",
       "time                                                                          \n",
       "2019-01-22 00:00:00-05:00          NaN  264.82  265.0600  261.0600  261.970   \n",
       "2019-01-23 00:00:00-05:00     0.000705  264.01  264.7900  260.6600  263.100   \n",
       "2019-01-24 00:00:00-05:00     0.001877  263.21  264.2000  262.0800  263.690   \n",
       "2019-01-25 00:00:00-05:00    -0.000515  265.61  266.7000  263.6595  265.700   \n",
       "2019-01-28 00:00:00-05:00    -0.000187  263.39  263.8200  261.7900  263.635   \n",
       "...                                ...     ...       ...       ...      ...   \n",
       "2022-01-14 00:00:00-05:00    -0.005585  461.19  465.0900  459.9000  464.680   \n",
       "2022-01-18 00:00:00-05:00    -0.006062  459.73  459.9600  455.3100  456.530   \n",
       "2022-01-19 00:00:00-05:00     0.001973  458.17  459.6124  451.4600  451.790   \n",
       "2022-01-20 00:00:00-05:00     0.000716  453.75  458.7400  444.5000  446.790   \n",
       "2022-01-21 00:00:00-05:00     0.003712  445.56  446.6700  440.6600  444.260   \n",
       "\n",
       "                                                   \n",
       "                              volume daily_return  \n",
       "time                                               \n",
       "2019-01-22 00:00:00-05:00   88775864          NaN  \n",
       "2019-01-23 00:00:00-05:00   74195206     0.004313  \n",
       "2019-01-24 00:00:00-05:00   48407752     0.002242  \n",
       "2019-01-25 00:00:00-05:00   78094541     0.007623  \n",
       "2019-01-28 00:00:00-05:00   75207990    -0.007772  \n",
       "...                              ...          ...  \n",
       "2022-01-14 00:00:00-05:00   84172573     0.000301  \n",
       "2022-01-18 00:00:00-05:00   95565773    -0.017539  \n",
       "2022-01-19 00:00:00-05:00   95311817    -0.010383  \n",
       "2022-01-20 00:00:00-05:00  105009751    -0.011067  \n",
       "2022-01-21 00:00:00-05:00   59705328    -0.005663  \n",
       "\n",
       "[758 rows x 12 columns]"
      ]
     },
     "execution_count": 39,
     "metadata": {},
     "output_type": "execute_result"
    }
   ],
   "source": [
    "# Configure a Monte Carlo simulation to forecast 10 years cumulative returns\n",
    "# The weights should be split 20% to AGG and 80% to SPY.\n",
    "# Run 500 samples.\n",
    "MC_10y = MCSimulation(\n",
    "    portfolio_data=prices_df,\n",
    "    weights=[.8,.2],\n",
    "    num_simulation=500,\n",
    "    num_trading_days=10*252\n",
    ")\n",
    "\n",
    "# Review the simulation input data\n",
    "MC_10y.portfolio_data\n"
   ]
  },
  {
   "cell_type": "code",
   "execution_count": 40,
   "metadata": {},
   "outputs": [
    {
     "name": "stdout",
     "output_type": "stream",
     "text": [
      "Running Monte Carlo simulation number 0.\n",
      "Running Monte Carlo simulation number 10.\n",
      "Running Monte Carlo simulation number 20.\n",
      "Running Monte Carlo simulation number 30.\n",
      "Running Monte Carlo simulation number 40.\n",
      "Running Monte Carlo simulation number 50.\n",
      "Running Monte Carlo simulation number 60.\n",
      "Running Monte Carlo simulation number 70.\n",
      "Running Monte Carlo simulation number 80.\n",
      "Running Monte Carlo simulation number 90.\n",
      "Running Monte Carlo simulation number 100.\n"
     ]
    },
    {
     "name": "stderr",
     "output_type": "stream",
     "text": [
      "C:\\Users\\anton\\Desktop\\Columbia\\Challenges\\Challenge5\\MCForecastTools.py:117: PerformanceWarning: DataFrame is highly fragmented.  This is usually the result of calling `frame.insert` many times, which has poor performance.  Consider joining all columns at once using pd.concat(axis=1) instead.  To get a de-fragmented frame, use `newframe = frame.copy()`\n",
      "  portfolio_cumulative_returns[n] = (1 + sim_df.fillna(0)).cumprod()\n"
     ]
    },
    {
     "name": "stdout",
     "output_type": "stream",
     "text": [
      "Running Monte Carlo simulation number 110.\n",
      "Running Monte Carlo simulation number 120.\n",
      "Running Monte Carlo simulation number 130.\n",
      "Running Monte Carlo simulation number 140.\n",
      "Running Monte Carlo simulation number 150.\n",
      "Running Monte Carlo simulation number 160.\n",
      "Running Monte Carlo simulation number 170.\n",
      "Running Monte Carlo simulation number 180.\n",
      "Running Monte Carlo simulation number 190.\n",
      "Running Monte Carlo simulation number 200.\n",
      "Running Monte Carlo simulation number 210.\n",
      "Running Monte Carlo simulation number 220.\n",
      "Running Monte Carlo simulation number 230.\n",
      "Running Monte Carlo simulation number 240.\n",
      "Running Monte Carlo simulation number 250.\n",
      "Running Monte Carlo simulation number 260.\n",
      "Running Monte Carlo simulation number 270.\n",
      "Running Monte Carlo simulation number 280.\n",
      "Running Monte Carlo simulation number 290.\n",
      "Running Monte Carlo simulation number 300.\n",
      "Running Monte Carlo simulation number 310.\n",
      "Running Monte Carlo simulation number 320.\n",
      "Running Monte Carlo simulation number 330.\n",
      "Running Monte Carlo simulation number 340.\n",
      "Running Monte Carlo simulation number 350.\n",
      "Running Monte Carlo simulation number 360.\n",
      "Running Monte Carlo simulation number 370.\n",
      "Running Monte Carlo simulation number 380.\n",
      "Running Monte Carlo simulation number 390.\n",
      "Running Monte Carlo simulation number 400.\n",
      "Running Monte Carlo simulation number 410.\n",
      "Running Monte Carlo simulation number 420.\n",
      "Running Monte Carlo simulation number 430.\n",
      "Running Monte Carlo simulation number 440.\n",
      "Running Monte Carlo simulation number 450.\n",
      "Running Monte Carlo simulation number 460.\n",
      "Running Monte Carlo simulation number 470.\n",
      "Running Monte Carlo simulation number 480.\n",
      "Running Monte Carlo simulation number 490.\n"
     ]
    },
    {
     "data": {
      "text/html": [
       "<div>\n",
       "<style scoped>\n",
       "    .dataframe tbody tr th:only-of-type {\n",
       "        vertical-align: middle;\n",
       "    }\n",
       "\n",
       "    .dataframe tbody tr th {\n",
       "        vertical-align: top;\n",
       "    }\n",
       "\n",
       "    .dataframe thead th {\n",
       "        text-align: right;\n",
       "    }\n",
       "</style>\n",
       "<table border=\"1\" class=\"dataframe\">\n",
       "  <thead>\n",
       "    <tr style=\"text-align: right;\">\n",
       "      <th></th>\n",
       "      <th>0</th>\n",
       "      <th>1</th>\n",
       "      <th>2</th>\n",
       "      <th>3</th>\n",
       "      <th>4</th>\n",
       "      <th>5</th>\n",
       "      <th>6</th>\n",
       "      <th>7</th>\n",
       "      <th>8</th>\n",
       "      <th>9</th>\n",
       "      <th>...</th>\n",
       "      <th>490</th>\n",
       "      <th>491</th>\n",
       "      <th>492</th>\n",
       "      <th>493</th>\n",
       "      <th>494</th>\n",
       "      <th>495</th>\n",
       "      <th>496</th>\n",
       "      <th>497</th>\n",
       "      <th>498</th>\n",
       "      <th>499</th>\n",
       "    </tr>\n",
       "  </thead>\n",
       "  <tbody>\n",
       "    <tr>\n",
       "      <th>0</th>\n",
       "      <td>1.000000</td>\n",
       "      <td>1.000000</td>\n",
       "      <td>1.000000</td>\n",
       "      <td>1.000000</td>\n",
       "      <td>1.000000</td>\n",
       "      <td>1.000000</td>\n",
       "      <td>1.000000</td>\n",
       "      <td>1.000000</td>\n",
       "      <td>1.000000</td>\n",
       "      <td>1.000000</td>\n",
       "      <td>...</td>\n",
       "      <td>1.000000</td>\n",
       "      <td>1.000000</td>\n",
       "      <td>1.000000</td>\n",
       "      <td>1.000000</td>\n",
       "      <td>1.000000</td>\n",
       "      <td>1.000000</td>\n",
       "      <td>1.000000</td>\n",
       "      <td>1.000000</td>\n",
       "      <td>1.000000</td>\n",
       "      <td>1.000000</td>\n",
       "    </tr>\n",
       "    <tr>\n",
       "      <th>1</th>\n",
       "      <td>0.997595</td>\n",
       "      <td>0.997364</td>\n",
       "      <td>1.000613</td>\n",
       "      <td>0.994366</td>\n",
       "      <td>1.001133</td>\n",
       "      <td>0.997944</td>\n",
       "      <td>0.996492</td>\n",
       "      <td>1.002510</td>\n",
       "      <td>0.998133</td>\n",
       "      <td>1.000317</td>\n",
       "      <td>...</td>\n",
       "      <td>1.002386</td>\n",
       "      <td>1.001549</td>\n",
       "      <td>0.998873</td>\n",
       "      <td>0.992064</td>\n",
       "      <td>0.996946</td>\n",
       "      <td>1.002538</td>\n",
       "      <td>1.000097</td>\n",
       "      <td>0.997012</td>\n",
       "      <td>1.002756</td>\n",
       "      <td>0.996949</td>\n",
       "    </tr>\n",
       "    <tr>\n",
       "      <th>2</th>\n",
       "      <td>0.995961</td>\n",
       "      <td>0.992903</td>\n",
       "      <td>1.000556</td>\n",
       "      <td>0.993547</td>\n",
       "      <td>0.998423</td>\n",
       "      <td>0.994503</td>\n",
       "      <td>0.999707</td>\n",
       "      <td>1.005846</td>\n",
       "      <td>0.996304</td>\n",
       "      <td>1.005705</td>\n",
       "      <td>...</td>\n",
       "      <td>1.002721</td>\n",
       "      <td>0.996804</td>\n",
       "      <td>0.999392</td>\n",
       "      <td>1.002067</td>\n",
       "      <td>1.000332</td>\n",
       "      <td>0.999888</td>\n",
       "      <td>1.004757</td>\n",
       "      <td>1.002951</td>\n",
       "      <td>0.998240</td>\n",
       "      <td>0.997851</td>\n",
       "    </tr>\n",
       "    <tr>\n",
       "      <th>3</th>\n",
       "      <td>0.996779</td>\n",
       "      <td>0.991576</td>\n",
       "      <td>0.991364</td>\n",
       "      <td>0.995626</td>\n",
       "      <td>0.996433</td>\n",
       "      <td>0.991815</td>\n",
       "      <td>0.992371</td>\n",
       "      <td>1.002793</td>\n",
       "      <td>0.992940</td>\n",
       "      <td>1.006517</td>\n",
       "      <td>...</td>\n",
       "      <td>1.006532</td>\n",
       "      <td>0.999188</td>\n",
       "      <td>0.996411</td>\n",
       "      <td>0.999467</td>\n",
       "      <td>1.005645</td>\n",
       "      <td>1.001735</td>\n",
       "      <td>0.997301</td>\n",
       "      <td>1.001417</td>\n",
       "      <td>1.009970</td>\n",
       "      <td>0.999037</td>\n",
       "    </tr>\n",
       "    <tr>\n",
       "      <th>4</th>\n",
       "      <td>0.993605</td>\n",
       "      <td>0.990503</td>\n",
       "      <td>0.998305</td>\n",
       "      <td>1.000572</td>\n",
       "      <td>1.003760</td>\n",
       "      <td>0.991027</td>\n",
       "      <td>0.984711</td>\n",
       "      <td>1.006102</td>\n",
       "      <td>0.998225</td>\n",
       "      <td>1.007312</td>\n",
       "      <td>...</td>\n",
       "      <td>1.007085</td>\n",
       "      <td>1.005612</td>\n",
       "      <td>0.996791</td>\n",
       "      <td>0.998773</td>\n",
       "      <td>1.000151</td>\n",
       "      <td>0.999847</td>\n",
       "      <td>0.997055</td>\n",
       "      <td>1.004567</td>\n",
       "      <td>1.010875</td>\n",
       "      <td>1.005300</td>\n",
       "    </tr>\n",
       "    <tr>\n",
       "      <th>...</th>\n",
       "      <td>...</td>\n",
       "      <td>...</td>\n",
       "      <td>...</td>\n",
       "      <td>...</td>\n",
       "      <td>...</td>\n",
       "      <td>...</td>\n",
       "      <td>...</td>\n",
       "      <td>...</td>\n",
       "      <td>...</td>\n",
       "      <td>...</td>\n",
       "      <td>...</td>\n",
       "      <td>...</td>\n",
       "      <td>...</td>\n",
       "      <td>...</td>\n",
       "      <td>...</td>\n",
       "      <td>...</td>\n",
       "      <td>...</td>\n",
       "      <td>...</td>\n",
       "      <td>...</td>\n",
       "      <td>...</td>\n",
       "      <td>...</td>\n",
       "    </tr>\n",
       "    <tr>\n",
       "      <th>2516</th>\n",
       "      <td>1.499985</td>\n",
       "      <td>1.623682</td>\n",
       "      <td>1.501933</td>\n",
       "      <td>1.480853</td>\n",
       "      <td>2.238023</td>\n",
       "      <td>1.584183</td>\n",
       "      <td>2.515355</td>\n",
       "      <td>1.384915</td>\n",
       "      <td>1.342386</td>\n",
       "      <td>1.937748</td>\n",
       "      <td>...</td>\n",
       "      <td>1.338860</td>\n",
       "      <td>1.134779</td>\n",
       "      <td>1.750579</td>\n",
       "      <td>1.210911</td>\n",
       "      <td>1.454868</td>\n",
       "      <td>1.620417</td>\n",
       "      <td>2.057716</td>\n",
       "      <td>2.008858</td>\n",
       "      <td>1.634270</td>\n",
       "      <td>1.921527</td>\n",
       "    </tr>\n",
       "    <tr>\n",
       "      <th>2517</th>\n",
       "      <td>1.496588</td>\n",
       "      <td>1.612196</td>\n",
       "      <td>1.506350</td>\n",
       "      <td>1.488337</td>\n",
       "      <td>2.222608</td>\n",
       "      <td>1.590004</td>\n",
       "      <td>2.517634</td>\n",
       "      <td>1.380563</td>\n",
       "      <td>1.348801</td>\n",
       "      <td>1.951901</td>\n",
       "      <td>...</td>\n",
       "      <td>1.347916</td>\n",
       "      <td>1.137862</td>\n",
       "      <td>1.759845</td>\n",
       "      <td>1.208339</td>\n",
       "      <td>1.452963</td>\n",
       "      <td>1.611275</td>\n",
       "      <td>2.045737</td>\n",
       "      <td>2.010013</td>\n",
       "      <td>1.635216</td>\n",
       "      <td>1.906995</td>\n",
       "    </tr>\n",
       "    <tr>\n",
       "      <th>2518</th>\n",
       "      <td>1.493344</td>\n",
       "      <td>1.607673</td>\n",
       "      <td>1.517861</td>\n",
       "      <td>1.482597</td>\n",
       "      <td>2.238975</td>\n",
       "      <td>1.584992</td>\n",
       "      <td>2.508450</td>\n",
       "      <td>1.379465</td>\n",
       "      <td>1.355254</td>\n",
       "      <td>1.959215</td>\n",
       "      <td>...</td>\n",
       "      <td>1.345799</td>\n",
       "      <td>1.137818</td>\n",
       "      <td>1.751338</td>\n",
       "      <td>1.208629</td>\n",
       "      <td>1.450534</td>\n",
       "      <td>1.613775</td>\n",
       "      <td>2.050217</td>\n",
       "      <td>2.021867</td>\n",
       "      <td>1.635545</td>\n",
       "      <td>1.906092</td>\n",
       "    </tr>\n",
       "    <tr>\n",
       "      <th>2519</th>\n",
       "      <td>1.492257</td>\n",
       "      <td>1.602117</td>\n",
       "      <td>1.516452</td>\n",
       "      <td>1.487621</td>\n",
       "      <td>2.234457</td>\n",
       "      <td>1.583514</td>\n",
       "      <td>2.518316</td>\n",
       "      <td>1.383959</td>\n",
       "      <td>1.348322</td>\n",
       "      <td>1.963923</td>\n",
       "      <td>...</td>\n",
       "      <td>1.339350</td>\n",
       "      <td>1.134445</td>\n",
       "      <td>1.747544</td>\n",
       "      <td>1.205114</td>\n",
       "      <td>1.449778</td>\n",
       "      <td>1.616694</td>\n",
       "      <td>2.053334</td>\n",
       "      <td>2.015317</td>\n",
       "      <td>1.635934</td>\n",
       "      <td>1.912447</td>\n",
       "    </tr>\n",
       "    <tr>\n",
       "      <th>2520</th>\n",
       "      <td>1.493606</td>\n",
       "      <td>1.593802</td>\n",
       "      <td>1.519821</td>\n",
       "      <td>1.489551</td>\n",
       "      <td>2.239706</td>\n",
       "      <td>1.583959</td>\n",
       "      <td>2.525005</td>\n",
       "      <td>1.382543</td>\n",
       "      <td>1.346406</td>\n",
       "      <td>1.960632</td>\n",
       "      <td>...</td>\n",
       "      <td>1.345703</td>\n",
       "      <td>1.132707</td>\n",
       "      <td>1.753036</td>\n",
       "      <td>1.203325</td>\n",
       "      <td>1.450531</td>\n",
       "      <td>1.612640</td>\n",
       "      <td>2.069661</td>\n",
       "      <td>2.024042</td>\n",
       "      <td>1.633699</td>\n",
       "      <td>1.903544</td>\n",
       "    </tr>\n",
       "  </tbody>\n",
       "</table>\n",
       "<p>2521 rows × 500 columns</p>\n",
       "</div>"
      ],
      "text/plain": [
       "           0         1         2         3         4         5         6    \\\n",
       "0     1.000000  1.000000  1.000000  1.000000  1.000000  1.000000  1.000000   \n",
       "1     0.997595  0.997364  1.000613  0.994366  1.001133  0.997944  0.996492   \n",
       "2     0.995961  0.992903  1.000556  0.993547  0.998423  0.994503  0.999707   \n",
       "3     0.996779  0.991576  0.991364  0.995626  0.996433  0.991815  0.992371   \n",
       "4     0.993605  0.990503  0.998305  1.000572  1.003760  0.991027  0.984711   \n",
       "...        ...       ...       ...       ...       ...       ...       ...   \n",
       "2516  1.499985  1.623682  1.501933  1.480853  2.238023  1.584183  2.515355   \n",
       "2517  1.496588  1.612196  1.506350  1.488337  2.222608  1.590004  2.517634   \n",
       "2518  1.493344  1.607673  1.517861  1.482597  2.238975  1.584992  2.508450   \n",
       "2519  1.492257  1.602117  1.516452  1.487621  2.234457  1.583514  2.518316   \n",
       "2520  1.493606  1.593802  1.519821  1.489551  2.239706  1.583959  2.525005   \n",
       "\n",
       "           7         8         9    ...       490       491       492  \\\n",
       "0     1.000000  1.000000  1.000000  ...  1.000000  1.000000  1.000000   \n",
       "1     1.002510  0.998133  1.000317  ...  1.002386  1.001549  0.998873   \n",
       "2     1.005846  0.996304  1.005705  ...  1.002721  0.996804  0.999392   \n",
       "3     1.002793  0.992940  1.006517  ...  1.006532  0.999188  0.996411   \n",
       "4     1.006102  0.998225  1.007312  ...  1.007085  1.005612  0.996791   \n",
       "...        ...       ...       ...  ...       ...       ...       ...   \n",
       "2516  1.384915  1.342386  1.937748  ...  1.338860  1.134779  1.750579   \n",
       "2517  1.380563  1.348801  1.951901  ...  1.347916  1.137862  1.759845   \n",
       "2518  1.379465  1.355254  1.959215  ...  1.345799  1.137818  1.751338   \n",
       "2519  1.383959  1.348322  1.963923  ...  1.339350  1.134445  1.747544   \n",
       "2520  1.382543  1.346406  1.960632  ...  1.345703  1.132707  1.753036   \n",
       "\n",
       "           493       494       495       496       497       498       499  \n",
       "0     1.000000  1.000000  1.000000  1.000000  1.000000  1.000000  1.000000  \n",
       "1     0.992064  0.996946  1.002538  1.000097  0.997012  1.002756  0.996949  \n",
       "2     1.002067  1.000332  0.999888  1.004757  1.002951  0.998240  0.997851  \n",
       "3     0.999467  1.005645  1.001735  0.997301  1.001417  1.009970  0.999037  \n",
       "4     0.998773  1.000151  0.999847  0.997055  1.004567  1.010875  1.005300  \n",
       "...        ...       ...       ...       ...       ...       ...       ...  \n",
       "2516  1.210911  1.454868  1.620417  2.057716  2.008858  1.634270  1.921527  \n",
       "2517  1.208339  1.452963  1.611275  2.045737  2.010013  1.635216  1.906995  \n",
       "2518  1.208629  1.450534  1.613775  2.050217  2.021867  1.635545  1.906092  \n",
       "2519  1.205114  1.449778  1.616694  2.053334  2.015317  1.635934  1.912447  \n",
       "2520  1.203325  1.450531  1.612640  2.069661  2.024042  1.633699  1.903544  \n",
       "\n",
       "[2521 rows x 500 columns]"
      ]
     },
     "execution_count": 40,
     "metadata": {},
     "output_type": "execute_result"
    }
   ],
   "source": [
    "# Run the Monte Carlo simulation to forecast 10 years cumulative returns\n",
    "MC_10y.calc_cumulative_return()\n"
   ]
  },
  {
   "cell_type": "code",
   "execution_count": 41,
   "metadata": {},
   "outputs": [
    {
     "data": {
      "image/png": "[encoded data removed]",
      "text/plain": [
       "<Figure size 432x288 with 1 Axes>"
      ]
     },
     "metadata": {
      "needs_background": "light"
     },
     "output_type": "display_data"
    }
   ],
   "source": [
    "# Visualize the 10-year Monte Carlo simulation by creating an\n",
    "# overlay line plot\n",
    "line_plot_10y = MC_10y.plot_simulation()\n"
   ]
  },
  {
   "cell_type": "code",
   "execution_count": 42,
   "metadata": {},
   "outputs": [
    {
     "data": {
      "image/png": "[encoded data removed]",
      "text/plain": [
       "<Figure size 432x288 with 1 Axes>"
      ]
     },
     "metadata": {
      "needs_background": "light"
     },
     "output_type": "display_data"
    }
   ],
   "source": [
    "# Visualize the probability distribution of the 10-year Monte Carlo simulation \n",
    "# by plotting a histogram\n",
    "distr_plot_10y = MC_10y.plot_distribution()\n"
   ]
  },
  {
   "cell_type": "code",
   "execution_count": 43,
   "metadata": {},
   "outputs": [
    {
     "data": {
      "text/plain": [
       "count           500.000000\n",
       "mean              1.724273\n",
       "std               0.374352\n",
       "min               0.920888\n",
       "25%               1.450605\n",
       "50%               1.678254\n",
       "75%               1.911550\n",
       "max               3.142161\n",
       "95% CI Lower      1.148625\n",
       "95% CI Upper      2.599425\n",
       "Name: 2520, dtype: float64"
      ]
     },
     "execution_count": 43,
     "metadata": {},
     "output_type": "execute_result"
    }
   ],
   "source": [
    "# Generate summary statistics from the 10-year Monte Carlo simulation results\n",
    "# Save the results as a variable\n",
    "table_10y = MC_10y.summarize_cumulative_return()\n",
    "\n",
    "\n",
    "# Review the 10-year Monte Carlo summary statistics\n",
    "table_10y"
   ]
  },
  {
   "cell_type": "markdown",
   "metadata": {},
   "source": [
    "### Answer the following questions:"
   ]
  },
  {
   "cell_type": "markdown",
   "metadata": {},
   "source": [
    "#### Question: Using the current value of only the stock and bond portion of the member's portfolio and the summary statistics that you generated from the new Monte Carlo simulation, what are the lower and upper bounds for the expected value of the portfolio (with the new weights) with a 95% confidence interval?"
   ]
  },
  {
   "cell_type": "code",
   "execution_count": 44,
   "metadata": {},
   "outputs": [
    {
     "name": "stdout",
     "output_type": "stream",
     "text": [
      "The current balance of the portfolio's portion in bond and stock is: $ 138504.90\n"
     ]
    }
   ],
   "source": [
    "# Print the current balance of the stock and bond portion of the members portfolio\n",
    "print(f\"The current balance of the portfolio's portion in bond and stock is: $ {total_stocks_bonds:.2f}\")\n"
   ]
  },
  {
   "cell_type": "code",
   "execution_count": 45,
   "metadata": {},
   "outputs": [
    {
     "name": "stdout",
     "output_type": "stream",
     "text": [
      "Lower cumulative return in the 95% confidence band: $ 159090.17\n",
      "Upper cumulative return in the 95% confidence band: $ 360033.12\n"
     ]
    }
   ],
   "source": [
    "# Use the lower and upper `95%` confidence intervals to calculate the range of the possible outcomes for the current stock/bond portfolio\n",
    "ci_lower_ten_cumulative_return = table_10y.loc['95% CI Lower']*total_stocks_bonds\n",
    "ci_upper_ten_cumulative_return = table_10y.loc['95% CI Upper']*total_stocks_bonds\n",
    "\n",
    "# Print the result of your calculations\n",
    "print(f\"Lower cumulative return in the 95% confidence band: $ {ci_lower_ten_cumulative_return:.2f}\")\n",
    "print(f\"Upper cumulative return in the 95% confidence band: $ {ci_upper_ten_cumulative_return:.2f}\")\n"
   ]
  },
  {
   "cell_type": "markdown",
   "metadata": {},
   "source": [
    "#### Question: Will weighting the portfolio more heavily to stocks allow the credit union members to retire after only 10 years?"
   ]
  },
  {
   "cell_type": "markdown",
   "metadata": {},
   "source": [
    "**Answer** The 10 years strategy here analyzed doesn't allow the person to retire earlier for the following reasons:"
   ]
  },
  {
   "cell_type": "markdown",
   "metadata": {},
   "source": [
    "We can analyze the differences in the two portfolios comparing the mean of the cumulative returns, the values corresponding to the 95th percentile in the lower and upper bound and the other statistics computed by the ```summarize_cumulative_return()``` function."
   ]
  },
  {
   "cell_type": "markdown",
   "metadata": {},
   "source": [
    "First of all, we can see that the second portfolio which has an higher percentage invested into stocks is more risky, we can see that the worse simulation across the 10 years ends up with a loss, since the minimum is 0.92, it means we end up with just 92% of the initial capital.\n",
    "On the opposite side, for the first case, the worst case scenario of our simulation displays a cumulative gross profit of 384%.\n",
    "If we don't consider these outliers, focusing just on the confidence interval of 95%, meaning we consider the events with 95% of likelihood to observe at the end of the period, we just have positive values of the return for the all interval. \n",
    "\n",
    "LOWER BOUNDS: Portfolio_30_years = 495% gross profit: Portfolio_10_years = 115% gross profit.\n",
    "\n",
    "By making this consideration we can infer that both are viable solutions for the retirement.\n",
    "The 30 years option is way more profitable because of the larger time of the investing strategy.\n",
    "\n",
    "UPPER BOUNDS: Portfolio_30_years = 3492% gross profit: Portfolio_10_years = 260% gross profit.\n",
    "\n",
    "EXPECTED VALUES: Portfolio_30_years = 1514% gross profit: Portfolio_10_years = 172% gross profit.\n",
    "\n",
    "The huge difference in favour of the returns for the 30 years portfolio, brings us to put much more confidence in this option.\n",
    "Based on this strategy, considering that on average the return of the 10 year retirement option guarantees a net profit of 72% on an initial capital of roughly 140000.00 dollars , being approximately 100800 we don't consider this sufficient to let the client retire."
   ]
  },
  {
   "cell_type": "code",
   "execution_count": null,
   "metadata": {},
   "outputs": [],
   "source": []
  }
 ],
 "metadata": {
  "kernelspec": {
   "display_name": "dev",
   "language": "python",
   "name": "dev"
  },
  "language_info": {
   "codemirror_mode": {
    "name": "ipython",
    "version": 3
   },
   "file_extension": ".py",
   "mimetype": "text/x-python",
   "name": "python",
   "nbconvert_exporter": "python",
   "pygments_lexer": "ipython3",
   "version": "3.7.11"
  }
 },
 "nbformat": 4,
 "nbformat_minor": 4
}
